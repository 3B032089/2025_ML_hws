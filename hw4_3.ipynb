{
  "nbformat": 4,
  "nbformat_minor": 0,
  "metadata": {
    "colab": {
      "provenance": [],
      "gpuType": "T4"
    },
    "kernelspec": {
      "name": "python3",
      "display_name": "Python 3"
    },
    "language_info": {
      "name": "python"
    },
    "accelerator": "GPU"
  },
  "cells": [
    {
      "cell_type": "code",
      "execution_count": 1,
      "metadata": {
        "id": "1_jhf6SV9pkd"
      },
      "outputs": [],
      "source": [
        "import matplotlib.pyplot as plt\n",
        "import numpy as np\n",
        "import pandas as pd"
      ]
    },
    {
      "cell_type": "code",
      "source": [
        "from tensorflow.keras.datasets import cifar10\n",
        "from tensorflow.keras.utils import to_categorical"
      ],
      "metadata": {
        "id": "nyrG5HI398zz"
      },
      "execution_count": 2,
      "outputs": []
    },
    {
      "cell_type": "code",
      "source": [
        "from tensorflow.keras.models import Sequential\n",
        "from tensorflow.keras.layers import Dense,Flatten,Conv2D,MaxPool2D\n",
        "from tensorflow.keras.optimizers import SGD,Adam\n",
        "from tensorflow.keras.layers import Dropout"
      ],
      "metadata": {
        "id": "-RkgNDPr-EKy"
      },
      "execution_count": 3,
      "outputs": []
    },
    {
      "cell_type": "code",
      "source": [
        "from tensorflow.keras import utils  #用於分類資料轉換等 Keras 工具\n",
        "np.random.seed(10) #設定隨機種子，讓每次程式產生的隨機值都一致"
      ],
      "metadata": {
        "id": "8CEDsfE0BZQV"
      },
      "execution_count": 4,
      "outputs": []
    },
    {
      "cell_type": "code",
      "source": [
        "import matplotlib.pyplot as plt\n",
        "plt.rcParams['font.family'] = 'DejaVu Sans'"
      ],
      "metadata": {
        "id": "RvuHOon5R8Tw"
      },
      "execution_count": 5,
      "outputs": []
    },
    {
      "cell_type": "markdown",
      "source": [
        "# **資料預處理**"
      ],
      "metadata": {
        "id": "khe_SNPUAe0c"
      }
    },
    {
      "cell_type": "code",
      "source": [
        "(x_train_image, y_train_label), (x_test_image, y_test_label) = cifar10.load_data()"
      ],
      "metadata": {
        "id": "LPRCpk32-GYL",
        "colab": {
          "base_uri": "https://localhost:8080/"
        },
        "outputId": "326aa76b-8303-4d0e-f2b4-c7bad07061f9"
      },
      "execution_count": 6,
      "outputs": [
        {
          "output_type": "stream",
          "name": "stdout",
          "text": [
            "Downloading data from https://www.cs.toronto.edu/~kriz/cifar-10-python.tar.gz\n",
            "\u001b[1m170498071/170498071\u001b[0m \u001b[32m━━━━━━━━━━━━━━━━━━━━\u001b[0m\u001b[37m\u001b[0m \u001b[1m4s\u001b[0m 0us/step\n"
          ]
        }
      ]
    },
    {
      "cell_type": "code",
      "source": [
        "x_Train_normalize = x_train_image/255\n",
        "x_Test_normalize = x_test_image/255"
      ],
      "metadata": {
        "id": "WdVKrgduAq-G"
      },
      "execution_count": 7,
      "outputs": []
    },
    {
      "cell_type": "code",
      "source": [
        "y_Train_OneHot = utils.to_categorical(y_train_label)\n",
        "y_Test_OneHot = utils.to_categorical(y_test_label)"
      ],
      "metadata": {
        "id": "cn1OK7yNBLDd"
      },
      "execution_count": 8,
      "outputs": []
    },
    {
      "cell_type": "code",
      "source": [
        "x_train_image.shape"
      ],
      "metadata": {
        "colab": {
          "base_uri": "https://localhost:8080/"
        },
        "id": "1oIeNyEF_nf1",
        "outputId": "dffd9170-3f96-46e6-b90c-e93579f58516"
      },
      "execution_count": 9,
      "outputs": [
        {
          "output_type": "execute_result",
          "data": {
            "text/plain": [
              "(50000, 32, 32, 3)"
            ]
          },
          "metadata": {},
          "execution_count": 9
        }
      ]
    },
    {
      "cell_type": "markdown",
      "source": [
        "# **模型建立**"
      ],
      "metadata": {
        "id": "0sigjPNBAXgh"
      }
    },
    {
      "cell_type": "code",
      "source": [
        "model = Sequential()"
      ],
      "metadata": {
        "id": "b7tlebK9-Wdn"
      },
      "execution_count": 10,
      "outputs": []
    },
    {
      "cell_type": "code",
      "source": [
        "model.add(Conv2D(32,(3,3),padding='same',\n",
        "         input_shape=(32,32,3),\n",
        "         activation='relu'))"
      ],
      "metadata": {
        "id": "Mz0pXjys-XPt",
        "colab": {
          "base_uri": "https://localhost:8080/"
        },
        "outputId": "53cd4c7e-5511-48d3-f4df-c0ed2598b6ab"
      },
      "execution_count": 11,
      "outputs": [
        {
          "output_type": "stream",
          "name": "stderr",
          "text": [
            "/usr/local/lib/python3.11/dist-packages/keras/src/layers/convolutional/base_conv.py:107: UserWarning: Do not pass an `input_shape`/`input_dim` argument to a layer. When using Sequential models, prefer using an `Input(shape)` object as the first layer in the model instead.\n",
            "  super().__init__(activity_regularizer=activity_regularizer, **kwargs)\n"
          ]
        }
      ]
    },
    {
      "cell_type": "code",
      "source": [
        "model.add(Dropout(0.3))"
      ],
      "metadata": {
        "id": "i0XmUJZ5s8Lh"
      },
      "execution_count": 12,
      "outputs": []
    },
    {
      "cell_type": "code",
      "source": [
        "model.add(Conv2D(32,(3,3),padding='same',\n",
        "         input_shape=(32,32,3),\n",
        "         activation='relu'))"
      ],
      "metadata": {
        "id": "Bj6CMiqKvoCq"
      },
      "execution_count": 13,
      "outputs": []
    },
    {
      "cell_type": "code",
      "source": [
        "model.add(MaxPool2D())"
      ],
      "metadata": {
        "id": "f8Ow93V3-tZn"
      },
      "execution_count": 14,
      "outputs": []
    },
    {
      "cell_type": "code",
      "source": [
        "model.add(Conv2D(64,(3,3),padding='same',\n",
        "         activation='relu'))"
      ],
      "metadata": {
        "id": "6kndyTL6BwXn"
      },
      "execution_count": 15,
      "outputs": []
    },
    {
      "cell_type": "code",
      "source": [
        "model.add(Dropout(0.3))"
      ],
      "metadata": {
        "id": "xx0oMgAstRqh"
      },
      "execution_count": 16,
      "outputs": []
    },
    {
      "cell_type": "code",
      "source": [
        "model.add(Conv2D(64,(3,3),padding='same',\n",
        "         activation='relu'))"
      ],
      "metadata": {
        "id": "2usukCdfvxvX"
      },
      "execution_count": 17,
      "outputs": []
    },
    {
      "cell_type": "code",
      "source": [
        "model.add(MaxPool2D())"
      ],
      "metadata": {
        "id": "rdomjMaSB2c3"
      },
      "execution_count": 18,
      "outputs": []
    },
    {
      "cell_type": "code",
      "source": [
        "model.add(Conv2D(128,(3,3),padding='same',\n",
        "         activation='relu'))"
      ],
      "metadata": {
        "id": "EHrQqQ75v4v0"
      },
      "execution_count": 19,
      "outputs": []
    },
    {
      "cell_type": "code",
      "source": [
        "model.add(Dropout(0.3))"
      ],
      "metadata": {
        "id": "mNE8r483v64T"
      },
      "execution_count": 20,
      "outputs": []
    },
    {
      "cell_type": "code",
      "source": [
        "model.add(Conv2D(128,(3,3),padding='same',\n",
        "         activation='relu'))"
      ],
      "metadata": {
        "id": "SL7Xoehwv7pt"
      },
      "execution_count": 21,
      "outputs": []
    },
    {
      "cell_type": "code",
      "source": [
        "model.add(MaxPool2D())"
      ],
      "metadata": {
        "id": "xIm5Cj4Xv9aJ"
      },
      "execution_count": 22,
      "outputs": []
    },
    {
      "cell_type": "code",
      "source": [
        "model.add(Flatten())"
      ],
      "metadata": {
        "id": "hNsZndmVCHsv"
      },
      "execution_count": 23,
      "outputs": []
    },
    {
      "cell_type": "code",
      "source": [
        "model.add(Dropout(0.3))"
      ],
      "metadata": {
        "id": "9jqJo4UItc-5"
      },
      "execution_count": 24,
      "outputs": []
    },
    {
      "cell_type": "code",
      "source": [
        "model.add(Dense(\n",
        "    units = 2500,\n",
        "    kernel_initializer='normal',\n",
        "    activation='relu'))"
      ],
      "metadata": {
        "id": "ojNBVhugtrSp"
      },
      "execution_count": 25,
      "outputs": []
    },
    {
      "cell_type": "code",
      "source": [
        "model.add(Dropout(0.3))"
      ],
      "metadata": {
        "id": "KWSD9Ny2tvJ1"
      },
      "execution_count": 26,
      "outputs": []
    },
    {
      "cell_type": "code",
      "source": [
        "model.add(Dense(\n",
        "    units = 1500,\n",
        "    kernel_initializer='normal',\n",
        "    activation='relu'))"
      ],
      "metadata": {
        "id": "ve6xrjcywGKh"
      },
      "execution_count": 27,
      "outputs": []
    },
    {
      "cell_type": "code",
      "source": [
        "model.add(Dropout(0.3))"
      ],
      "metadata": {
        "id": "r3fW7TW1wIMY"
      },
      "execution_count": 28,
      "outputs": []
    },
    {
      "cell_type": "code",
      "source": [
        "model.add(Dense(units=10,\n",
        "                kernel_initializer='normal',\n",
        "                activation='softmax'))"
      ],
      "metadata": {
        "id": "22aX8H6LCSb5"
      },
      "execution_count": 29,
      "outputs": []
    },
    {
      "cell_type": "code",
      "source": [
        "print(model.summary())  # 檢查用"
      ],
      "metadata": {
        "colab": {
          "base_uri": "https://localhost:8080/",
          "height": 754
        },
        "id": "OsdEV3-dCTUX",
        "outputId": "e3b72663-7a5a-4ac1-b81c-f8133d798273"
      },
      "execution_count": 30,
      "outputs": [
        {
          "output_type": "display_data",
          "data": {
            "text/plain": [
              "\u001b[1mModel: \"sequential\"\u001b[0m\n"
            ],
            "text/html": [
              "<pre style=\"white-space:pre;overflow-x:auto;line-height:normal;font-family:Menlo,'DejaVu Sans Mono',consolas,'Courier New',monospace\"><span style=\"font-weight: bold\">Model: \"sequential\"</span>\n",
              "</pre>\n"
            ]
          },
          "metadata": {}
        },
        {
          "output_type": "display_data",
          "data": {
            "text/plain": [
              "┏━━━━━━━━━━━━━━━━━━━━━━━━━━━━━━━━━┳━━━━━━━━━━━━━━━━━━━━━━━━┳━━━━━━━━━━━━━━━┓\n",
              "┃\u001b[1m \u001b[0m\u001b[1mLayer (type)                   \u001b[0m\u001b[1m \u001b[0m┃\u001b[1m \u001b[0m\u001b[1mOutput Shape          \u001b[0m\u001b[1m \u001b[0m┃\u001b[1m \u001b[0m\u001b[1m      Param #\u001b[0m\u001b[1m \u001b[0m┃\n",
              "┡━━━━━━━━━━━━━━━━━━━━━━━━━━━━━━━━━╇━━━━━━━━━━━━━━━━━━━━━━━━╇━━━━━━━━━━━━━━━┩\n",
              "│ conv2d (\u001b[38;5;33mConv2D\u001b[0m)                 │ (\u001b[38;5;45mNone\u001b[0m, \u001b[38;5;34m32\u001b[0m, \u001b[38;5;34m32\u001b[0m, \u001b[38;5;34m32\u001b[0m)     │           \u001b[38;5;34m896\u001b[0m │\n",
              "├─────────────────────────────────┼────────────────────────┼───────────────┤\n",
              "│ dropout (\u001b[38;5;33mDropout\u001b[0m)               │ (\u001b[38;5;45mNone\u001b[0m, \u001b[38;5;34m32\u001b[0m, \u001b[38;5;34m32\u001b[0m, \u001b[38;5;34m32\u001b[0m)     │             \u001b[38;5;34m0\u001b[0m │\n",
              "├─────────────────────────────────┼────────────────────────┼───────────────┤\n",
              "│ conv2d_1 (\u001b[38;5;33mConv2D\u001b[0m)               │ (\u001b[38;5;45mNone\u001b[0m, \u001b[38;5;34m32\u001b[0m, \u001b[38;5;34m32\u001b[0m, \u001b[38;5;34m32\u001b[0m)     │         \u001b[38;5;34m9,248\u001b[0m │\n",
              "├─────────────────────────────────┼────────────────────────┼───────────────┤\n",
              "│ max_pooling2d (\u001b[38;5;33mMaxPooling2D\u001b[0m)    │ (\u001b[38;5;45mNone\u001b[0m, \u001b[38;5;34m16\u001b[0m, \u001b[38;5;34m16\u001b[0m, \u001b[38;5;34m32\u001b[0m)     │             \u001b[38;5;34m0\u001b[0m │\n",
              "├─────────────────────────────────┼────────────────────────┼───────────────┤\n",
              "│ conv2d_2 (\u001b[38;5;33mConv2D\u001b[0m)               │ (\u001b[38;5;45mNone\u001b[0m, \u001b[38;5;34m16\u001b[0m, \u001b[38;5;34m16\u001b[0m, \u001b[38;5;34m64\u001b[0m)     │        \u001b[38;5;34m18,496\u001b[0m │\n",
              "├─────────────────────────────────┼────────────────────────┼───────────────┤\n",
              "│ dropout_1 (\u001b[38;5;33mDropout\u001b[0m)             │ (\u001b[38;5;45mNone\u001b[0m, \u001b[38;5;34m16\u001b[0m, \u001b[38;5;34m16\u001b[0m, \u001b[38;5;34m64\u001b[0m)     │             \u001b[38;5;34m0\u001b[0m │\n",
              "├─────────────────────────────────┼────────────────────────┼───────────────┤\n",
              "│ conv2d_3 (\u001b[38;5;33mConv2D\u001b[0m)               │ (\u001b[38;5;45mNone\u001b[0m, \u001b[38;5;34m16\u001b[0m, \u001b[38;5;34m16\u001b[0m, \u001b[38;5;34m64\u001b[0m)     │        \u001b[38;5;34m36,928\u001b[0m │\n",
              "├─────────────────────────────────┼────────────────────────┼───────────────┤\n",
              "│ max_pooling2d_1 (\u001b[38;5;33mMaxPooling2D\u001b[0m)  │ (\u001b[38;5;45mNone\u001b[0m, \u001b[38;5;34m8\u001b[0m, \u001b[38;5;34m8\u001b[0m, \u001b[38;5;34m64\u001b[0m)       │             \u001b[38;5;34m0\u001b[0m │\n",
              "├─────────────────────────────────┼────────────────────────┼───────────────┤\n",
              "│ conv2d_4 (\u001b[38;5;33mConv2D\u001b[0m)               │ (\u001b[38;5;45mNone\u001b[0m, \u001b[38;5;34m8\u001b[0m, \u001b[38;5;34m8\u001b[0m, \u001b[38;5;34m128\u001b[0m)      │        \u001b[38;5;34m73,856\u001b[0m │\n",
              "├─────────────────────────────────┼────────────────────────┼───────────────┤\n",
              "│ dropout_2 (\u001b[38;5;33mDropout\u001b[0m)             │ (\u001b[38;5;45mNone\u001b[0m, \u001b[38;5;34m8\u001b[0m, \u001b[38;5;34m8\u001b[0m, \u001b[38;5;34m128\u001b[0m)      │             \u001b[38;5;34m0\u001b[0m │\n",
              "├─────────────────────────────────┼────────────────────────┼───────────────┤\n",
              "│ conv2d_5 (\u001b[38;5;33mConv2D\u001b[0m)               │ (\u001b[38;5;45mNone\u001b[0m, \u001b[38;5;34m8\u001b[0m, \u001b[38;5;34m8\u001b[0m, \u001b[38;5;34m128\u001b[0m)      │       \u001b[38;5;34m147,584\u001b[0m │\n",
              "├─────────────────────────────────┼────────────────────────┼───────────────┤\n",
              "│ max_pooling2d_2 (\u001b[38;5;33mMaxPooling2D\u001b[0m)  │ (\u001b[38;5;45mNone\u001b[0m, \u001b[38;5;34m4\u001b[0m, \u001b[38;5;34m4\u001b[0m, \u001b[38;5;34m128\u001b[0m)      │             \u001b[38;5;34m0\u001b[0m │\n",
              "├─────────────────────────────────┼────────────────────────┼───────────────┤\n",
              "│ flatten (\u001b[38;5;33mFlatten\u001b[0m)               │ (\u001b[38;5;45mNone\u001b[0m, \u001b[38;5;34m2048\u001b[0m)           │             \u001b[38;5;34m0\u001b[0m │\n",
              "├─────────────────────────────────┼────────────────────────┼───────────────┤\n",
              "│ dropout_3 (\u001b[38;5;33mDropout\u001b[0m)             │ (\u001b[38;5;45mNone\u001b[0m, \u001b[38;5;34m2048\u001b[0m)           │             \u001b[38;5;34m0\u001b[0m │\n",
              "├─────────────────────────────────┼────────────────────────┼───────────────┤\n",
              "│ dense (\u001b[38;5;33mDense\u001b[0m)                   │ (\u001b[38;5;45mNone\u001b[0m, \u001b[38;5;34m2500\u001b[0m)           │     \u001b[38;5;34m5,122,500\u001b[0m │\n",
              "├─────────────────────────────────┼────────────────────────┼───────────────┤\n",
              "│ dropout_4 (\u001b[38;5;33mDropout\u001b[0m)             │ (\u001b[38;5;45mNone\u001b[0m, \u001b[38;5;34m2500\u001b[0m)           │             \u001b[38;5;34m0\u001b[0m │\n",
              "├─────────────────────────────────┼────────────────────────┼───────────────┤\n",
              "│ dense_1 (\u001b[38;5;33mDense\u001b[0m)                 │ (\u001b[38;5;45mNone\u001b[0m, \u001b[38;5;34m1500\u001b[0m)           │     \u001b[38;5;34m3,751,500\u001b[0m │\n",
              "├─────────────────────────────────┼────────────────────────┼───────────────┤\n",
              "│ dropout_5 (\u001b[38;5;33mDropout\u001b[0m)             │ (\u001b[38;5;45mNone\u001b[0m, \u001b[38;5;34m1500\u001b[0m)           │             \u001b[38;5;34m0\u001b[0m │\n",
              "├─────────────────────────────────┼────────────────────────┼───────────────┤\n",
              "│ dense_2 (\u001b[38;5;33mDense\u001b[0m)                 │ (\u001b[38;5;45mNone\u001b[0m, \u001b[38;5;34m10\u001b[0m)             │        \u001b[38;5;34m15,010\u001b[0m │\n",
              "└─────────────────────────────────┴────────────────────────┴───────────────┘\n"
            ],
            "text/html": [
              "<pre style=\"white-space:pre;overflow-x:auto;line-height:normal;font-family:Menlo,'DejaVu Sans Mono',consolas,'Courier New',monospace\">┏━━━━━━━━━━━━━━━━━━━━━━━━━━━━━━━━━┳━━━━━━━━━━━━━━━━━━━━━━━━┳━━━━━━━━━━━━━━━┓\n",
              "┃<span style=\"font-weight: bold\"> Layer (type)                    </span>┃<span style=\"font-weight: bold\"> Output Shape           </span>┃<span style=\"font-weight: bold\">       Param # </span>┃\n",
              "┡━━━━━━━━━━━━━━━━━━━━━━━━━━━━━━━━━╇━━━━━━━━━━━━━━━━━━━━━━━━╇━━━━━━━━━━━━━━━┩\n",
              "│ conv2d (<span style=\"color: #0087ff; text-decoration-color: #0087ff\">Conv2D</span>)                 │ (<span style=\"color: #00d7ff; text-decoration-color: #00d7ff\">None</span>, <span style=\"color: #00af00; text-decoration-color: #00af00\">32</span>, <span style=\"color: #00af00; text-decoration-color: #00af00\">32</span>, <span style=\"color: #00af00; text-decoration-color: #00af00\">32</span>)     │           <span style=\"color: #00af00; text-decoration-color: #00af00\">896</span> │\n",
              "├─────────────────────────────────┼────────────────────────┼───────────────┤\n",
              "│ dropout (<span style=\"color: #0087ff; text-decoration-color: #0087ff\">Dropout</span>)               │ (<span style=\"color: #00d7ff; text-decoration-color: #00d7ff\">None</span>, <span style=\"color: #00af00; text-decoration-color: #00af00\">32</span>, <span style=\"color: #00af00; text-decoration-color: #00af00\">32</span>, <span style=\"color: #00af00; text-decoration-color: #00af00\">32</span>)     │             <span style=\"color: #00af00; text-decoration-color: #00af00\">0</span> │\n",
              "├─────────────────────────────────┼────────────────────────┼───────────────┤\n",
              "│ conv2d_1 (<span style=\"color: #0087ff; text-decoration-color: #0087ff\">Conv2D</span>)               │ (<span style=\"color: #00d7ff; text-decoration-color: #00d7ff\">None</span>, <span style=\"color: #00af00; text-decoration-color: #00af00\">32</span>, <span style=\"color: #00af00; text-decoration-color: #00af00\">32</span>, <span style=\"color: #00af00; text-decoration-color: #00af00\">32</span>)     │         <span style=\"color: #00af00; text-decoration-color: #00af00\">9,248</span> │\n",
              "├─────────────────────────────────┼────────────────────────┼───────────────┤\n",
              "│ max_pooling2d (<span style=\"color: #0087ff; text-decoration-color: #0087ff\">MaxPooling2D</span>)    │ (<span style=\"color: #00d7ff; text-decoration-color: #00d7ff\">None</span>, <span style=\"color: #00af00; text-decoration-color: #00af00\">16</span>, <span style=\"color: #00af00; text-decoration-color: #00af00\">16</span>, <span style=\"color: #00af00; text-decoration-color: #00af00\">32</span>)     │             <span style=\"color: #00af00; text-decoration-color: #00af00\">0</span> │\n",
              "├─────────────────────────────────┼────────────────────────┼───────────────┤\n",
              "│ conv2d_2 (<span style=\"color: #0087ff; text-decoration-color: #0087ff\">Conv2D</span>)               │ (<span style=\"color: #00d7ff; text-decoration-color: #00d7ff\">None</span>, <span style=\"color: #00af00; text-decoration-color: #00af00\">16</span>, <span style=\"color: #00af00; text-decoration-color: #00af00\">16</span>, <span style=\"color: #00af00; text-decoration-color: #00af00\">64</span>)     │        <span style=\"color: #00af00; text-decoration-color: #00af00\">18,496</span> │\n",
              "├─────────────────────────────────┼────────────────────────┼───────────────┤\n",
              "│ dropout_1 (<span style=\"color: #0087ff; text-decoration-color: #0087ff\">Dropout</span>)             │ (<span style=\"color: #00d7ff; text-decoration-color: #00d7ff\">None</span>, <span style=\"color: #00af00; text-decoration-color: #00af00\">16</span>, <span style=\"color: #00af00; text-decoration-color: #00af00\">16</span>, <span style=\"color: #00af00; text-decoration-color: #00af00\">64</span>)     │             <span style=\"color: #00af00; text-decoration-color: #00af00\">0</span> │\n",
              "├─────────────────────────────────┼────────────────────────┼───────────────┤\n",
              "│ conv2d_3 (<span style=\"color: #0087ff; text-decoration-color: #0087ff\">Conv2D</span>)               │ (<span style=\"color: #00d7ff; text-decoration-color: #00d7ff\">None</span>, <span style=\"color: #00af00; text-decoration-color: #00af00\">16</span>, <span style=\"color: #00af00; text-decoration-color: #00af00\">16</span>, <span style=\"color: #00af00; text-decoration-color: #00af00\">64</span>)     │        <span style=\"color: #00af00; text-decoration-color: #00af00\">36,928</span> │\n",
              "├─────────────────────────────────┼────────────────────────┼───────────────┤\n",
              "│ max_pooling2d_1 (<span style=\"color: #0087ff; text-decoration-color: #0087ff\">MaxPooling2D</span>)  │ (<span style=\"color: #00d7ff; text-decoration-color: #00d7ff\">None</span>, <span style=\"color: #00af00; text-decoration-color: #00af00\">8</span>, <span style=\"color: #00af00; text-decoration-color: #00af00\">8</span>, <span style=\"color: #00af00; text-decoration-color: #00af00\">64</span>)       │             <span style=\"color: #00af00; text-decoration-color: #00af00\">0</span> │\n",
              "├─────────────────────────────────┼────────────────────────┼───────────────┤\n",
              "│ conv2d_4 (<span style=\"color: #0087ff; text-decoration-color: #0087ff\">Conv2D</span>)               │ (<span style=\"color: #00d7ff; text-decoration-color: #00d7ff\">None</span>, <span style=\"color: #00af00; text-decoration-color: #00af00\">8</span>, <span style=\"color: #00af00; text-decoration-color: #00af00\">8</span>, <span style=\"color: #00af00; text-decoration-color: #00af00\">128</span>)      │        <span style=\"color: #00af00; text-decoration-color: #00af00\">73,856</span> │\n",
              "├─────────────────────────────────┼────────────────────────┼───────────────┤\n",
              "│ dropout_2 (<span style=\"color: #0087ff; text-decoration-color: #0087ff\">Dropout</span>)             │ (<span style=\"color: #00d7ff; text-decoration-color: #00d7ff\">None</span>, <span style=\"color: #00af00; text-decoration-color: #00af00\">8</span>, <span style=\"color: #00af00; text-decoration-color: #00af00\">8</span>, <span style=\"color: #00af00; text-decoration-color: #00af00\">128</span>)      │             <span style=\"color: #00af00; text-decoration-color: #00af00\">0</span> │\n",
              "├─────────────────────────────────┼────────────────────────┼───────────────┤\n",
              "│ conv2d_5 (<span style=\"color: #0087ff; text-decoration-color: #0087ff\">Conv2D</span>)               │ (<span style=\"color: #00d7ff; text-decoration-color: #00d7ff\">None</span>, <span style=\"color: #00af00; text-decoration-color: #00af00\">8</span>, <span style=\"color: #00af00; text-decoration-color: #00af00\">8</span>, <span style=\"color: #00af00; text-decoration-color: #00af00\">128</span>)      │       <span style=\"color: #00af00; text-decoration-color: #00af00\">147,584</span> │\n",
              "├─────────────────────────────────┼────────────────────────┼───────────────┤\n",
              "│ max_pooling2d_2 (<span style=\"color: #0087ff; text-decoration-color: #0087ff\">MaxPooling2D</span>)  │ (<span style=\"color: #00d7ff; text-decoration-color: #00d7ff\">None</span>, <span style=\"color: #00af00; text-decoration-color: #00af00\">4</span>, <span style=\"color: #00af00; text-decoration-color: #00af00\">4</span>, <span style=\"color: #00af00; text-decoration-color: #00af00\">128</span>)      │             <span style=\"color: #00af00; text-decoration-color: #00af00\">0</span> │\n",
              "├─────────────────────────────────┼────────────────────────┼───────────────┤\n",
              "│ flatten (<span style=\"color: #0087ff; text-decoration-color: #0087ff\">Flatten</span>)               │ (<span style=\"color: #00d7ff; text-decoration-color: #00d7ff\">None</span>, <span style=\"color: #00af00; text-decoration-color: #00af00\">2048</span>)           │             <span style=\"color: #00af00; text-decoration-color: #00af00\">0</span> │\n",
              "├─────────────────────────────────┼────────────────────────┼───────────────┤\n",
              "│ dropout_3 (<span style=\"color: #0087ff; text-decoration-color: #0087ff\">Dropout</span>)             │ (<span style=\"color: #00d7ff; text-decoration-color: #00d7ff\">None</span>, <span style=\"color: #00af00; text-decoration-color: #00af00\">2048</span>)           │             <span style=\"color: #00af00; text-decoration-color: #00af00\">0</span> │\n",
              "├─────────────────────────────────┼────────────────────────┼───────────────┤\n",
              "│ dense (<span style=\"color: #0087ff; text-decoration-color: #0087ff\">Dense</span>)                   │ (<span style=\"color: #00d7ff; text-decoration-color: #00d7ff\">None</span>, <span style=\"color: #00af00; text-decoration-color: #00af00\">2500</span>)           │     <span style=\"color: #00af00; text-decoration-color: #00af00\">5,122,500</span> │\n",
              "├─────────────────────────────────┼────────────────────────┼───────────────┤\n",
              "│ dropout_4 (<span style=\"color: #0087ff; text-decoration-color: #0087ff\">Dropout</span>)             │ (<span style=\"color: #00d7ff; text-decoration-color: #00d7ff\">None</span>, <span style=\"color: #00af00; text-decoration-color: #00af00\">2500</span>)           │             <span style=\"color: #00af00; text-decoration-color: #00af00\">0</span> │\n",
              "├─────────────────────────────────┼────────────────────────┼───────────────┤\n",
              "│ dense_1 (<span style=\"color: #0087ff; text-decoration-color: #0087ff\">Dense</span>)                 │ (<span style=\"color: #00d7ff; text-decoration-color: #00d7ff\">None</span>, <span style=\"color: #00af00; text-decoration-color: #00af00\">1500</span>)           │     <span style=\"color: #00af00; text-decoration-color: #00af00\">3,751,500</span> │\n",
              "├─────────────────────────────────┼────────────────────────┼───────────────┤\n",
              "│ dropout_5 (<span style=\"color: #0087ff; text-decoration-color: #0087ff\">Dropout</span>)             │ (<span style=\"color: #00d7ff; text-decoration-color: #00d7ff\">None</span>, <span style=\"color: #00af00; text-decoration-color: #00af00\">1500</span>)           │             <span style=\"color: #00af00; text-decoration-color: #00af00\">0</span> │\n",
              "├─────────────────────────────────┼────────────────────────┼───────────────┤\n",
              "│ dense_2 (<span style=\"color: #0087ff; text-decoration-color: #0087ff\">Dense</span>)                 │ (<span style=\"color: #00d7ff; text-decoration-color: #00d7ff\">None</span>, <span style=\"color: #00af00; text-decoration-color: #00af00\">10</span>)             │        <span style=\"color: #00af00; text-decoration-color: #00af00\">15,010</span> │\n",
              "└─────────────────────────────────┴────────────────────────┴───────────────┘\n",
              "</pre>\n"
            ]
          },
          "metadata": {}
        },
        {
          "output_type": "display_data",
          "data": {
            "text/plain": [
              "\u001b[1m Total params: \u001b[0m\u001b[38;5;34m9,176,018\u001b[0m (35.00 MB)\n"
            ],
            "text/html": [
              "<pre style=\"white-space:pre;overflow-x:auto;line-height:normal;font-family:Menlo,'DejaVu Sans Mono',consolas,'Courier New',monospace\"><span style=\"font-weight: bold\"> Total params: </span><span style=\"color: #00af00; text-decoration-color: #00af00\">9,176,018</span> (35.00 MB)\n",
              "</pre>\n"
            ]
          },
          "metadata": {}
        },
        {
          "output_type": "display_data",
          "data": {
            "text/plain": [
              "\u001b[1m Trainable params: \u001b[0m\u001b[38;5;34m9,176,018\u001b[0m (35.00 MB)\n"
            ],
            "text/html": [
              "<pre style=\"white-space:pre;overflow-x:auto;line-height:normal;font-family:Menlo,'DejaVu Sans Mono',consolas,'Courier New',monospace\"><span style=\"font-weight: bold\"> Trainable params: </span><span style=\"color: #00af00; text-decoration-color: #00af00\">9,176,018</span> (35.00 MB)\n",
              "</pre>\n"
            ]
          },
          "metadata": {}
        },
        {
          "output_type": "display_data",
          "data": {
            "text/plain": [
              "\u001b[1m Non-trainable params: \u001b[0m\u001b[38;5;34m0\u001b[0m (0.00 B)\n"
            ],
            "text/html": [
              "<pre style=\"white-space:pre;overflow-x:auto;line-height:normal;font-family:Menlo,'DejaVu Sans Mono',consolas,'Courier New',monospace\"><span style=\"font-weight: bold\"> Non-trainable params: </span><span style=\"color: #00af00; text-decoration-color: #00af00\">0</span> (0.00 B)\n",
              "</pre>\n"
            ]
          },
          "metadata": {}
        },
        {
          "output_type": "stream",
          "name": "stdout",
          "text": [
            "None\n"
          ]
        }
      ]
    },
    {
      "cell_type": "markdown",
      "source": [
        "# **訓練模型**"
      ],
      "metadata": {
        "id": "b912ZrQeDrRt"
      }
    },
    {
      "cell_type": "code",
      "source": [
        "model.compile(\n",
        "    loss='categorical_crossentropy',  # 損失函數\n",
        "    optimizer= Adam(learning_rate = 0.001),                 # 最佳化器\n",
        "    metrics=['accuracy']             # 評估指標\n",
        ")"
      ],
      "metadata": {
        "id": "4KL9VFe7DuHf"
      },
      "execution_count": 31,
      "outputs": []
    },
    {
      "cell_type": "code",
      "source": [
        "train_history = model.fit(\n",
        "    x = x_Train_normalize,         # 訓練資料（特徵）→ 已經標準化\n",
        "    y = y_Train_OneHot,            # 訓練標籤（目標）→ One-hot 編碼\n",
        "    validation_split = 0.2,        # 20% 訓練資料作為驗證資料（不用額外給 validation set）\n",
        "    epochs = 50,                   # 訓練 10 輪（整份資料訓練 10 次）\n",
        "    batch_size = 128,              # 每批次送入 400 筆資料\n",
        "    verbose = 2,                   # 顯示訓練過程資訊（2 表示精簡模式：每輪顯示一行）\n",
        ")"
      ],
      "metadata": {
        "colab": {
          "base_uri": "https://localhost:8080/"
        },
        "id": "oxvUX0O9D5Zd",
        "outputId": "9cb7263c-0c1c-415e-c4d7-e4fdb13d0815"
      },
      "execution_count": 32,
      "outputs": [
        {
          "output_type": "stream",
          "name": "stdout",
          "text": [
            "Epoch 1/50\n",
            "313/313 - 26s - 82ms/step - accuracy: 0.3207 - loss: 1.8221 - val_accuracy: 0.4343 - val_loss: 1.5289\n",
            "Epoch 2/50\n",
            "313/313 - 23s - 75ms/step - accuracy: 0.4725 - loss: 1.4312 - val_accuracy: 0.5401 - val_loss: 1.2678\n",
            "Epoch 3/50\n",
            "313/313 - 5s - 16ms/step - accuracy: 0.5538 - loss: 1.2367 - val_accuracy: 0.6129 - val_loss: 1.1077\n",
            "Epoch 4/50\n",
            "313/313 - 5s - 16ms/step - accuracy: 0.6048 - loss: 1.1006 - val_accuracy: 0.6464 - val_loss: 1.0049\n",
            "Epoch 5/50\n",
            "313/313 - 5s - 18ms/step - accuracy: 0.6433 - loss: 1.0014 - val_accuracy: 0.6832 - val_loss: 0.9132\n",
            "Epoch 6/50\n",
            "313/313 - 10s - 33ms/step - accuracy: 0.6686 - loss: 0.9285 - val_accuracy: 0.6974 - val_loss: 0.8601\n",
            "Epoch 7/50\n",
            "313/313 - 5s - 17ms/step - accuracy: 0.6920 - loss: 0.8675 - val_accuracy: 0.7225 - val_loss: 0.7979\n",
            "Epoch 8/50\n",
            "313/313 - 10s - 32ms/step - accuracy: 0.7124 - loss: 0.8115 - val_accuracy: 0.7128 - val_loss: 0.8266\n",
            "Epoch 9/50\n",
            "313/313 - 5s - 16ms/step - accuracy: 0.7270 - loss: 0.7638 - val_accuracy: 0.7392 - val_loss: 0.7612\n",
            "Epoch 10/50\n",
            "313/313 - 10s - 33ms/step - accuracy: 0.7399 - loss: 0.7302 - val_accuracy: 0.7551 - val_loss: 0.7023\n",
            "Epoch 11/50\n",
            "313/313 - 10s - 33ms/step - accuracy: 0.7560 - loss: 0.6865 - val_accuracy: 0.7579 - val_loss: 0.6970\n",
            "Epoch 12/50\n",
            "313/313 - 10s - 32ms/step - accuracy: 0.7678 - loss: 0.6544 - val_accuracy: 0.7602 - val_loss: 0.6911\n",
            "Epoch 13/50\n",
            "313/313 - 5s - 16ms/step - accuracy: 0.7783 - loss: 0.6246 - val_accuracy: 0.7624 - val_loss: 0.6854\n",
            "Epoch 14/50\n",
            "313/313 - 5s - 16ms/step - accuracy: 0.7896 - loss: 0.5909 - val_accuracy: 0.7712 - val_loss: 0.6696\n",
            "Epoch 15/50\n",
            "313/313 - 5s - 16ms/step - accuracy: 0.7963 - loss: 0.5648 - val_accuracy: 0.7752 - val_loss: 0.6503\n",
            "Epoch 16/50\n",
            "313/313 - 5s - 16ms/step - accuracy: 0.8075 - loss: 0.5439 - val_accuracy: 0.7772 - val_loss: 0.6557\n",
            "Epoch 17/50\n",
            "313/313 - 10s - 33ms/step - accuracy: 0.8138 - loss: 0.5207 - val_accuracy: 0.7822 - val_loss: 0.6419\n",
            "Epoch 18/50\n",
            "313/313 - 10s - 33ms/step - accuracy: 0.8205 - loss: 0.5011 - val_accuracy: 0.7833 - val_loss: 0.6514\n",
            "Epoch 19/50\n",
            "313/313 - 10s - 32ms/step - accuracy: 0.8279 - loss: 0.4792 - val_accuracy: 0.7813 - val_loss: 0.6363\n",
            "Epoch 20/50\n",
            "313/313 - 5s - 17ms/step - accuracy: 0.8340 - loss: 0.4652 - val_accuracy: 0.7770 - val_loss: 0.6579\n",
            "Epoch 21/50\n",
            "313/313 - 5s - 17ms/step - accuracy: 0.8398 - loss: 0.4476 - val_accuracy: 0.7914 - val_loss: 0.6280\n",
            "Epoch 22/50\n",
            "313/313 - 10s - 32ms/step - accuracy: 0.8437 - loss: 0.4330 - val_accuracy: 0.7741 - val_loss: 0.6667\n",
            "Epoch 23/50\n",
            "313/313 - 11s - 34ms/step - accuracy: 0.8501 - loss: 0.4201 - val_accuracy: 0.7874 - val_loss: 0.6408\n",
            "Epoch 24/50\n",
            "313/313 - 10s - 32ms/step - accuracy: 0.8573 - loss: 0.4011 - val_accuracy: 0.7802 - val_loss: 0.6677\n",
            "Epoch 25/50\n",
            "313/313 - 5s - 16ms/step - accuracy: 0.8597 - loss: 0.3903 - val_accuracy: 0.7888 - val_loss: 0.6558\n",
            "Epoch 26/50\n",
            "313/313 - 5s - 17ms/step - accuracy: 0.8665 - loss: 0.3727 - val_accuracy: 0.7865 - val_loss: 0.6535\n",
            "Epoch 27/50\n",
            "313/313 - 10s - 32ms/step - accuracy: 0.8691 - loss: 0.3705 - val_accuracy: 0.7866 - val_loss: 0.6590\n",
            "Epoch 28/50\n",
            "313/313 - 10s - 32ms/step - accuracy: 0.8733 - loss: 0.3583 - val_accuracy: 0.7842 - val_loss: 0.6643\n",
            "Epoch 29/50\n",
            "313/313 - 5s - 17ms/step - accuracy: 0.8771 - loss: 0.3451 - val_accuracy: 0.7894 - val_loss: 0.6468\n",
            "Epoch 30/50\n",
            "313/313 - 10s - 33ms/step - accuracy: 0.8795 - loss: 0.3396 - val_accuracy: 0.7884 - val_loss: 0.6606\n",
            "Epoch 31/50\n",
            "313/313 - 5s - 16ms/step - accuracy: 0.8776 - loss: 0.3409 - val_accuracy: 0.7774 - val_loss: 0.6852\n",
            "Epoch 32/50\n",
            "313/313 - 5s - 17ms/step - accuracy: 0.8859 - loss: 0.3188 - val_accuracy: 0.7934 - val_loss: 0.6379\n",
            "Epoch 33/50\n",
            "313/313 - 5s - 17ms/step - accuracy: 0.8848 - loss: 0.3276 - val_accuracy: 0.7923 - val_loss: 0.6580\n",
            "Epoch 34/50\n",
            "313/313 - 5s - 17ms/step - accuracy: 0.8906 - loss: 0.3134 - val_accuracy: 0.7928 - val_loss: 0.6440\n",
            "Epoch 35/50\n",
            "313/313 - 10s - 33ms/step - accuracy: 0.8915 - loss: 0.3089 - val_accuracy: 0.7843 - val_loss: 0.6732\n",
            "Epoch 36/50\n",
            "313/313 - 5s - 17ms/step - accuracy: 0.8936 - loss: 0.3033 - val_accuracy: 0.7797 - val_loss: 0.6715\n",
            "Epoch 37/50\n",
            "313/313 - 10s - 33ms/step - accuracy: 0.8971 - loss: 0.2955 - val_accuracy: 0.7851 - val_loss: 0.6886\n",
            "Epoch 38/50\n",
            "313/313 - 10s - 33ms/step - accuracy: 0.8991 - loss: 0.2907 - val_accuracy: 0.7874 - val_loss: 0.6648\n",
            "Epoch 39/50\n",
            "313/313 - 10s - 32ms/step - accuracy: 0.9015 - loss: 0.2842 - val_accuracy: 0.7961 - val_loss: 0.6555\n",
            "Epoch 40/50\n",
            "313/313 - 10s - 32ms/step - accuracy: 0.9006 - loss: 0.2850 - val_accuracy: 0.7899 - val_loss: 0.6612\n",
            "Epoch 41/50\n",
            "313/313 - 11s - 34ms/step - accuracy: 0.9071 - loss: 0.2663 - val_accuracy: 0.7984 - val_loss: 0.6715\n",
            "Epoch 42/50\n",
            "313/313 - 10s - 33ms/step - accuracy: 0.9023 - loss: 0.2827 - val_accuracy: 0.7858 - val_loss: 0.6907\n",
            "Epoch 43/50\n",
            "313/313 - 10s - 33ms/step - accuracy: 0.9081 - loss: 0.2702 - val_accuracy: 0.7861 - val_loss: 0.6812\n",
            "Epoch 44/50\n",
            "313/313 - 10s - 32ms/step - accuracy: 0.9078 - loss: 0.2669 - val_accuracy: 0.7892 - val_loss: 0.6709\n",
            "Epoch 45/50\n",
            "313/313 - 10s - 33ms/step - accuracy: 0.9107 - loss: 0.2609 - val_accuracy: 0.7796 - val_loss: 0.6979\n",
            "Epoch 46/50\n",
            "313/313 - 5s - 17ms/step - accuracy: 0.9121 - loss: 0.2565 - val_accuracy: 0.7894 - val_loss: 0.6669\n",
            "Epoch 47/50\n",
            "313/313 - 5s - 17ms/step - accuracy: 0.9123 - loss: 0.2555 - val_accuracy: 0.7913 - val_loss: 0.6796\n",
            "Epoch 48/50\n",
            "313/313 - 5s - 16ms/step - accuracy: 0.9133 - loss: 0.2542 - val_accuracy: 0.7961 - val_loss: 0.6572\n",
            "Epoch 49/50\n",
            "313/313 - 5s - 17ms/step - accuracy: 0.9178 - loss: 0.2389 - val_accuracy: 0.7813 - val_loss: 0.7083\n",
            "Epoch 50/50\n",
            "313/313 - 10s - 32ms/step - accuracy: 0.9154 - loss: 0.2454 - val_accuracy: 0.7851 - val_loss: 0.6861\n"
          ]
        }
      ]
    },
    {
      "cell_type": "markdown",
      "source": [
        "# **以圖形顯示訓練過程**"
      ],
      "metadata": {
        "id": "CxSWpqqsP5Kr"
      }
    },
    {
      "cell_type": "code",
      "source": [
        "train_history.history"
      ],
      "metadata": {
        "colab": {
          "base_uri": "https://localhost:8080/"
        },
        "id": "t_UcbLhpP6oJ",
        "outputId": "9844a58b-43e4-4bc1-b605-03dee2165dbb"
      },
      "execution_count": 33,
      "outputs": [
        {
          "output_type": "execute_result",
          "data": {
            "text/plain": [
              "{'accuracy': [0.32065001130104065,\n",
              "  0.47247499227523804,\n",
              "  0.553849995136261,\n",
              "  0.6048499941825867,\n",
              "  0.6432999968528748,\n",
              "  0.6685500144958496,\n",
              "  0.6919749975204468,\n",
              "  0.7124000191688538,\n",
              "  0.7269750237464905,\n",
              "  0.7398750185966492,\n",
              "  0.7559750080108643,\n",
              "  0.7678499817848206,\n",
              "  0.7782999873161316,\n",
              "  0.7895500063896179,\n",
              "  0.7963250279426575,\n",
              "  0.8075249791145325,\n",
              "  0.8137500286102295,\n",
              "  0.8204749822616577,\n",
              "  0.8278999924659729,\n",
              "  0.8339999914169312,\n",
              "  0.839775025844574,\n",
              "  0.8437250256538391,\n",
              "  0.8501499891281128,\n",
              "  0.8573499917984009,\n",
              "  0.859749972820282,\n",
              "  0.8665000200271606,\n",
              "  0.8690500259399414,\n",
              "  0.873324990272522,\n",
              "  0.8770999908447266,\n",
              "  0.8795250058174133,\n",
              "  0.8775500059127808,\n",
              "  0.8858749866485596,\n",
              "  0.8848249912261963,\n",
              "  0.8905500173568726,\n",
              "  0.8915249705314636,\n",
              "  0.8935750126838684,\n",
              "  0.8971250057220459,\n",
              "  0.8990749716758728,\n",
              "  0.9014750123023987,\n",
              "  0.9006249904632568,\n",
              "  0.9070749878883362,\n",
              "  0.902275025844574,\n",
              "  0.9080749750137329,\n",
              "  0.9077500104904175,\n",
              "  0.9107000231742859,\n",
              "  0.9121249914169312,\n",
              "  0.9123250246047974,\n",
              "  0.9133250117301941,\n",
              "  0.9178000092506409,\n",
              "  0.9153749942779541],\n",
              " 'loss': [1.822100043296814,\n",
              "  1.4312472343444824,\n",
              "  1.2366867065429688,\n",
              "  1.100601315498352,\n",
              "  1.0013892650604248,\n",
              "  0.92853182554245,\n",
              "  0.8675192594528198,\n",
              "  0.8114974498748779,\n",
              "  0.7638172507286072,\n",
              "  0.7301800847053528,\n",
              "  0.6865226030349731,\n",
              "  0.6543653011322021,\n",
              "  0.6246131658554077,\n",
              "  0.5909153819084167,\n",
              "  0.5647899508476257,\n",
              "  0.5439085364341736,\n",
              "  0.5206781029701233,\n",
              "  0.5010841488838196,\n",
              "  0.47924917936325073,\n",
              "  0.46515825390815735,\n",
              "  0.4475685954093933,\n",
              "  0.4329792559146881,\n",
              "  0.42008304595947266,\n",
              "  0.40110450983047485,\n",
              "  0.3902692496776581,\n",
              "  0.37272146344184875,\n",
              "  0.3704677224159241,\n",
              "  0.35829856991767883,\n",
              "  0.34511271119117737,\n",
              "  0.33961060643196106,\n",
              "  0.34089502692222595,\n",
              "  0.3188409209251404,\n",
              "  0.3276044726371765,\n",
              "  0.313353568315506,\n",
              "  0.3088557720184326,\n",
              "  0.30328452587127686,\n",
              "  0.29549527168273926,\n",
              "  0.2906852662563324,\n",
              "  0.2841697931289673,\n",
              "  0.2850191593170166,\n",
              "  0.26629504561424255,\n",
              "  0.28271687030792236,\n",
              "  0.2702014148235321,\n",
              "  0.26692867279052734,\n",
              "  0.2608570158481598,\n",
              "  0.2565231919288635,\n",
              "  0.25551164150238037,\n",
              "  0.2542355954647064,\n",
              "  0.2389291673898697,\n",
              "  0.24537627398967743],\n",
              " 'val_accuracy': [0.4343000054359436,\n",
              "  0.5400999784469604,\n",
              "  0.6129000186920166,\n",
              "  0.646399974822998,\n",
              "  0.6832000017166138,\n",
              "  0.6973999738693237,\n",
              "  0.7225000262260437,\n",
              "  0.7128000259399414,\n",
              "  0.7391999959945679,\n",
              "  0.7551000118255615,\n",
              "  0.7578999996185303,\n",
              "  0.760200023651123,\n",
              "  0.7623999714851379,\n",
              "  0.7712000012397766,\n",
              "  0.7752000093460083,\n",
              "  0.7771999835968018,\n",
              "  0.7821999788284302,\n",
              "  0.78329998254776,\n",
              "  0.7813000082969666,\n",
              "  0.7770000100135803,\n",
              "  0.7914000153541565,\n",
              "  0.7741000056266785,\n",
              "  0.7874000072479248,\n",
              "  0.7802000045776367,\n",
              "  0.7888000011444092,\n",
              "  0.7864999771118164,\n",
              "  0.7865999937057495,\n",
              "  0.7842000126838684,\n",
              "  0.7893999814987183,\n",
              "  0.7883999943733215,\n",
              "  0.777400016784668,\n",
              "  0.79339998960495,\n",
              "  0.7922999858856201,\n",
              "  0.7928000092506409,\n",
              "  0.7843000292778015,\n",
              "  0.779699981212616,\n",
              "  0.785099983215332,\n",
              "  0.7874000072479248,\n",
              "  0.7961000204086304,\n",
              "  0.789900004863739,\n",
              "  0.7983999848365784,\n",
              "  0.7857999801635742,\n",
              "  0.7860999703407288,\n",
              "  0.7892000079154968,\n",
              "  0.7796000242233276,\n",
              "  0.7893999814987183,\n",
              "  0.7912999987602234,\n",
              "  0.7961000204086304,\n",
              "  0.7813000082969666,\n",
              "  0.785099983215332],\n",
              " 'val_loss': [1.5288668870925903,\n",
              "  1.2677611112594604,\n",
              "  1.1077197790145874,\n",
              "  1.0049107074737549,\n",
              "  0.9131700396537781,\n",
              "  0.8600558638572693,\n",
              "  0.797882080078125,\n",
              "  0.8265959024429321,\n",
              "  0.7611785531044006,\n",
              "  0.7023257613182068,\n",
              "  0.6970180869102478,\n",
              "  0.6910515427589417,\n",
              "  0.6854094862937927,\n",
              "  0.6695865988731384,\n",
              "  0.6503437161445618,\n",
              "  0.655729353427887,\n",
              "  0.6418799161911011,\n",
              "  0.6514266729354858,\n",
              "  0.6362515091896057,\n",
              "  0.6579147577285767,\n",
              "  0.6279813647270203,\n",
              "  0.6667426228523254,\n",
              "  0.6407650113105774,\n",
              "  0.6677250266075134,\n",
              "  0.6557564735412598,\n",
              "  0.6534730195999146,\n",
              "  0.659048855304718,\n",
              "  0.6642916798591614,\n",
              "  0.646816074848175,\n",
              "  0.6606146693229675,\n",
              "  0.6851565837860107,\n",
              "  0.6379379034042358,\n",
              "  0.6579808592796326,\n",
              "  0.6440317034721375,\n",
              "  0.6732385754585266,\n",
              "  0.6714887619018555,\n",
              "  0.6885867118835449,\n",
              "  0.6647791862487793,\n",
              "  0.6554884314537048,\n",
              "  0.6611518859863281,\n",
              "  0.6715256571769714,\n",
              "  0.6906564235687256,\n",
              "  0.6812096238136292,\n",
              "  0.6709274649620056,\n",
              "  0.6979328393936157,\n",
              "  0.6669061779975891,\n",
              "  0.6796359419822693,\n",
              "  0.6571713089942932,\n",
              "  0.7082957029342651,\n",
              "  0.6861022114753723]}"
            ]
          },
          "metadata": {},
          "execution_count": 33
        }
      ]
    },
    {
      "cell_type": "code",
      "source": [
        "import matplotlib.pyplot as plt\n",
        "\n",
        "# 畫出訓練過程每一個epoch訓練資料與驗證資料各自準確率(accuracy)的變化，或者損失誤差(loss)的變化\n",
        "def show_train_history(train_history,train,validation):\n",
        "    plt.plot(train_history.history[train])\n",
        "    plt.plot(train_history.history[validation])\n",
        "    plt.title('Train History')\n",
        "    plt.ylabel(train)\n",
        "    plt.xlabel('Epoch')\n",
        "    plt.legend(['train', 'validation'], loc='upper left')\n",
        "    plt.show()"
      ],
      "metadata": {
        "id": "HLKNRTRrQArw"
      },
      "execution_count": 34,
      "outputs": []
    },
    {
      "cell_type": "code",
      "source": [
        "show_train_history(train_history,'accuracy','val_accuracy')"
      ],
      "metadata": {
        "colab": {
          "base_uri": "https://localhost:8080/",
          "height": 472
        },
        "id": "ICUoDP45QCRV",
        "outputId": "68e12333-7fa3-4724-bfdc-08d214438961"
      },
      "execution_count": 35,
      "outputs": [
        {
          "output_type": "display_data",
          "data": {
            "text/plain": [
              "<Figure size 640x480 with 1 Axes>"
            ],
            "image/png": "[encoded data removed]"
          },
          "metadata": {}
        }
      ]
    },
    {
      "cell_type": "code",
      "source": [
        "show_train_history(train_history,'loss','val_loss')"
      ],
      "metadata": {
        "colab": {
          "base_uri": "https://localhost:8080/",
          "height": 472
        },
        "id": "0bSaM6oMQE2n",
        "outputId": "9a23b4a1-be71-48cb-8f0b-2a02a1eaadcb"
      },
      "execution_count": 36,
      "outputs": [
        {
          "output_type": "display_data",
          "data": {
            "text/plain": [
              "<Figure size 640x480 with 1 Axes>"
            ],
            "image/png": "[encoded data removed]"
          },
          "metadata": {}
        }
      ]
    },
    {
      "cell_type": "markdown",
      "source": [
        "# **評估模型準確率**"
      ],
      "metadata": {
        "id": "VY7CJehJQIMI"
      }
    },
    {
      "cell_type": "code",
      "source": [
        "scores = model.evaluate(x_test_image, y_Test_OneHot)\n",
        "print()\n",
        "print('accuracy=',scores[1])"
      ],
      "metadata": {
        "colab": {
          "base_uri": "https://localhost:8080/"
        },
        "id": "Th7OASu_QI7N",
        "outputId": "87cd8142-1731-4876-9b40-9e978881fe6c"
      },
      "execution_count": 38,
      "outputs": [
        {
          "output_type": "stream",
          "name": "stdout",
          "text": [
            "\u001b[1m313/313\u001b[0m \u001b[32m━━━━━━━━━━━━━━━━━━━━\u001b[0m\u001b[37m\u001b[0m \u001b[1m1s\u001b[0m 3ms/step - accuracy: 0.5129 - loss: 146.5251\n",
            "\n",
            "accuracy= 0.5098999738693237\n"
          ]
        }
      ]
    },
    {
      "cell_type": "markdown",
      "source": [
        "# **進行預測**"
      ],
      "metadata": {
        "id": "MABqTBFpRkTz"
      }
    },
    {
      "cell_type": "code",
      "source": [
        "class_names = [\"airplane\", \"car\", \"bird\", \"cat\", \"deer\", \"dog\", \"frog\", \"horse\", \"ship\", \"truck\"]"
      ],
      "metadata": {
        "id": "w-HLll6JRkx3"
      },
      "execution_count": 39,
      "outputs": []
    },
    {
      "cell_type": "code",
      "source": [
        "prediction=model.predict(x_test_image)"
      ],
      "metadata": {
        "colab": {
          "base_uri": "https://localhost:8080/"
        },
        "id": "GAHM7di6V7Yo",
        "outputId": "75cdb7bb-2fbd-48a0-fcaf-9219f46cd04e"
      },
      "execution_count": 40,
      "outputs": [
        {
          "output_type": "stream",
          "name": "stdout",
          "text": [
            "\u001b[1m313/313\u001b[0m \u001b[32m━━━━━━━━━━━━━━━━━━━━\u001b[0m\u001b[37m\u001b[0m \u001b[1m2s\u001b[0m 4ms/step\n"
          ]
        }
      ]
    },
    {
      "cell_type": "code",
      "source": [
        "predicted_lable = np.argmax(prediction[6])\n",
        "predicted_lable"
      ],
      "metadata": {
        "colab": {
          "base_uri": "https://localhost:8080/"
        },
        "id": "ARTtn8o6e-SR",
        "outputId": "140bdb5e-4c9d-43c1-dbba-5fc21fe20f82"
      },
      "execution_count": 41,
      "outputs": [
        {
          "output_type": "execute_result",
          "data": {
            "text/plain": [
              "np.int64(1)"
            ]
          },
          "metadata": {},
          "execution_count": 41
        }
      ]
    },
    {
      "cell_type": "code",
      "source": [
        "print('神經網路預測是：', class_names[predicted_lable])\n",
        "print('實際是：', class_names[y_test_label[6].item()])\n",
        "plt.imshow(x_test_image[6], cmap='Greys');  # 測試圖片需reshape為原來32x32"
      ],
      "metadata": {
        "colab": {
          "base_uri": "https://localhost:8080/",
          "height": 465
        },
        "id": "K55S-Or6fKSN",
        "outputId": "ccb2fcfc-5d58-433f-85bb-58de8e88e4ed"
      },
      "execution_count": 42,
      "outputs": [
        {
          "output_type": "stream",
          "name": "stdout",
          "text": [
            "神經網路預測是： car\n",
            "實際是： car\n"
          ]
        },
        {
          "output_type": "display_data",
          "data": {
            "text/plain": [
              "<Figure size 640x480 with 1 Axes>"
            ],
            "image/png": "[encoded data removed]"
          },
          "metadata": {}
        }
      ]
    },
    {
      "cell_type": "code",
      "source": [
        "# 一次呈現數張測試資料(圖片)、預測結果與真實結果，最多25張，預設10張\n",
        "def plot_images_labels_prediction(images, labels, prediction, idx, num=10):\n",
        "    fig = plt.gcf()\n",
        "    fig.set_size_inches(12, 14)\n",
        "    if num > 25: num = 25\n",
        "    for i in range(0, num):\n",
        "        ax = plt.subplot(5, 5, 1 + i)\n",
        "        ax.imshow(images[idx])\n",
        "        title = \"label=\" + str(class_names[labels[idx][0]]) + \"\\n\"\n",
        "        if prediction is not None:\n",
        "            title += \"predict=\" + str(class_names[np.argmax(prediction[idx])])\n",
        "        ax.set_title(title, fontsize=10)\n",
        "        ax.set_xticks([]); ax.set_yticks([])\n",
        "        idx += 1\n",
        "    plt.show()"
      ],
      "metadata": {
        "id": "85ZHOx9xX8XC"
      },
      "execution_count": 43,
      "outputs": []
    },
    {
      "cell_type": "code",
      "source": [
        "plot_images_labels_prediction(x_test_image,y_test_label,\n",
        "                              prediction,idx=0)"
      ],
      "metadata": {
        "colab": {
          "base_uri": "https://localhost:8080/",
          "height": 455
        },
        "id": "p1zaWdjxX-5X",
        "outputId": "58c8d4bf-6997-4c31-fb7b-549b76aa0b29"
      },
      "execution_count": 44,
      "outputs": [
        {
          "output_type": "display_data",
          "data": {
            "text/plain": [
              "<Figure size 1200x1400 with 10 Axes>"
            ],
            "image/png": "[encoded data removed]"
          },
          "metadata": {}
        }
      ]
    },
    {
      "cell_type": "markdown",
      "source": [
        "# **confusion matrix (混淆矩陣)**"
      ],
      "metadata": {
        "id": "-Teg0FTNo7hb"
      }
    },
    {
      "cell_type": "code",
      "source": [
        "import pandas as pd\n",
        "# 將10000個預測結果一一轉換為\n",
        "predicted_labels = np.argmax(prediction, axis=1)\n",
        "\n",
        "# Now use predicted_labels in crosstab\n",
        "pd.crosstab(y_test_label.ravel(), predicted_labels, rownames=['label'], colnames=['predict'])"
      ],
      "metadata": {
        "colab": {
          "base_uri": "https://localhost:8080/",
          "height": 394
        },
        "id": "NiheIM_Lo8hj",
        "outputId": "2a3e2553-3792-493d-a911-d78702e3ebda"
      },
      "execution_count": 45,
      "outputs": [
        {
          "output_type": "execute_result",
          "data": {
            "text/plain": [
              "predict    0    1    2    3    4    5    6    7    8    9\n",
              "label                                                    \n",
              "0        809   69   53    4    5    0    0   10   19   31\n",
              "1         13  942    4    0    2    0    0    3    6   30\n",
              "2        209  117  462   22   18   45    3   82   17   25\n",
              "3        250  121  118  172   16   97    4  133   45   44\n",
              "4        242  109   68   38  192   35    7  260   11   38\n",
              "5        130   95   84   71   12  437    1  115   25   30\n",
              "6        181  296   77   66   17   28  161   71   35   68\n",
              "7         55   36   29   12   14   12    0  820    5   17\n",
              "8        369  134   24    0   11    1    0   11  386   64\n",
              "9         59  192    2    1    2    2    0   23    1  718"
            ],
            "text/html": [
              "\n",
              "  <div id=\"df-3c5ad33c-59ca-47f2-8978-cb539cd675f0\" class=\"colab-df-container\">\n",
              "    <div>\n",
              "<style scoped>\n",
              "    .dataframe tbody tr th:only-of-type {\n",
              "        vertical-align: middle;\n",
              "    }\n",
              "\n",
              "    .dataframe tbody tr th {\n",
              "        vertical-align: top;\n",
              "    }\n",
              "\n",
              "    .dataframe thead th {\n",
              "        text-align: right;\n",
              "    }\n",
              "</style>\n",
              "<table border=\"1\" class=\"dataframe\">\n",
              "  <thead>\n",
              "    <tr style=\"text-align: right;\">\n",
              "      <th>predict</th>\n",
              "      <th>0</th>\n",
              "      <th>1</th>\n",
              "      <th>2</th>\n",
              "      <th>3</th>\n",
              "      <th>4</th>\n",
              "      <th>5</th>\n",
              "      <th>6</th>\n",
              "      <th>7</th>\n",
              "      <th>8</th>\n",
              "      <th>9</th>\n",
              "    </tr>\n",
              "    <tr>\n",
              "      <th>label</th>\n",
              "      <th></th>\n",
              "      <th></th>\n",
              "      <th></th>\n",
              "      <th></th>\n",
              "      <th></th>\n",
              "      <th></th>\n",
              "      <th></th>\n",
              "      <th></th>\n",
              "      <th></th>\n",
              "      <th></th>\n",
              "    </tr>\n",
              "  </thead>\n",
              "  <tbody>\n",
              "    <tr>\n",
              "      <th>0</th>\n",
              "      <td>809</td>\n",
              "      <td>69</td>\n",
              "      <td>53</td>\n",
              "      <td>4</td>\n",
              "      <td>5</td>\n",
              "      <td>0</td>\n",
              "      <td>0</td>\n",
              "      <td>10</td>\n",
              "      <td>19</td>\n",
              "      <td>31</td>\n",
              "    </tr>\n",
              "    <tr>\n",
              "      <th>1</th>\n",
              "      <td>13</td>\n",
              "      <td>942</td>\n",
              "      <td>4</td>\n",
              "      <td>0</td>\n",
              "      <td>2</td>\n",
              "      <td>0</td>\n",
              "      <td>0</td>\n",
              "      <td>3</td>\n",
              "      <td>6</td>\n",
              "      <td>30</td>\n",
              "    </tr>\n",
              "    <tr>\n",
              "      <th>2</th>\n",
              "      <td>209</td>\n",
              "      <td>117</td>\n",
              "      <td>462</td>\n",
              "      <td>22</td>\n",
              "      <td>18</td>\n",
              "      <td>45</td>\n",
              "      <td>3</td>\n",
              "      <td>82</td>\n",
              "      <td>17</td>\n",
              "      <td>25</td>\n",
              "    </tr>\n",
              "    <tr>\n",
              "      <th>3</th>\n",
              "      <td>250</td>\n",
              "      <td>121</td>\n",
              "      <td>118</td>\n",
              "      <td>172</td>\n",
              "      <td>16</td>\n",
              "      <td>97</td>\n",
              "      <td>4</td>\n",
              "      <td>133</td>\n",
              "      <td>45</td>\n",
              "      <td>44</td>\n",
              "    </tr>\n",
              "    <tr>\n",
              "      <th>4</th>\n",
              "      <td>242</td>\n",
              "      <td>109</td>\n",
              "      <td>68</td>\n",
              "      <td>38</td>\n",
              "      <td>192</td>\n",
              "      <td>35</td>\n",
              "      <td>7</td>\n",
              "      <td>260</td>\n",
              "      <td>11</td>\n",
              "      <td>38</td>\n",
              "    </tr>\n",
              "    <tr>\n",
              "      <th>5</th>\n",
              "      <td>130</td>\n",
              "      <td>95</td>\n",
              "      <td>84</td>\n",
              "      <td>71</td>\n",
              "      <td>12</td>\n",
              "      <td>437</td>\n",
              "      <td>1</td>\n",
              "      <td>115</td>\n",
              "      <td>25</td>\n",
              "      <td>30</td>\n",
              "    </tr>\n",
              "    <tr>\n",
              "      <th>6</th>\n",
              "      <td>181</td>\n",
              "      <td>296</td>\n",
              "      <td>77</td>\n",
              "      <td>66</td>\n",
              "      <td>17</td>\n",
              "      <td>28</td>\n",
              "      <td>161</td>\n",
              "      <td>71</td>\n",
              "      <td>35</td>\n",
              "      <td>68</td>\n",
              "    </tr>\n",
              "    <tr>\n",
              "      <th>7</th>\n",
              "      <td>55</td>\n",
              "      <td>36</td>\n",
              "      <td>29</td>\n",
              "      <td>12</td>\n",
              "      <td>14</td>\n",
              "      <td>12</td>\n",
              "      <td>0</td>\n",
              "      <td>820</td>\n",
              "      <td>5</td>\n",
              "      <td>17</td>\n",
              "    </tr>\n",
              "    <tr>\n",
              "      <th>8</th>\n",
              "      <td>369</td>\n",
              "      <td>134</td>\n",
              "      <td>24</td>\n",
              "      <td>0</td>\n",
              "      <td>11</td>\n",
              "      <td>1</td>\n",
              "      <td>0</td>\n",
              "      <td>11</td>\n",
              "      <td>386</td>\n",
              "      <td>64</td>\n",
              "    </tr>\n",
              "    <tr>\n",
              "      <th>9</th>\n",
              "      <td>59</td>\n",
              "      <td>192</td>\n",
              "      <td>2</td>\n",
              "      <td>1</td>\n",
              "      <td>2</td>\n",
              "      <td>2</td>\n",
              "      <td>0</td>\n",
              "      <td>23</td>\n",
              "      <td>1</td>\n",
              "      <td>718</td>\n",
              "    </tr>\n",
              "  </tbody>\n",
              "</table>\n",
              "</div>\n",
              "    <div class=\"colab-df-buttons\">\n",
              "\n",
              "  <div class=\"colab-df-container\">\n",
              "    <button class=\"colab-df-convert\" onclick=\"convertToInteractive('df-3c5ad33c-59ca-47f2-8978-cb539cd675f0')\"\n",
              "            title=\"Convert this dataframe to an interactive table.\"\n",
              "            style=\"display:none;\">\n",
              "\n",
              "  <svg xmlns=\"http://www.w3.org/2000/svg\" height=\"24px\" viewBox=\"0 -960 960 960\">\n",
              "    <path d=\"M120-120v-720h720v720H120Zm60-500h600v-160H180v160Zm220 220h160v-160H400v160Zm0 220h160v-160H400v160ZM180-400h160v-160H180v160Zm440 0h160v-160H620v160ZM180-180h160v-160H180v160Zm440 0h160v-160H620v160Z\"/>\n",
              "  </svg>\n",
              "    </button>\n",
              "\n",
              "  <style>\n",
              "    .colab-df-container {\n",
              "      display:flex;\n",
              "      gap: 12px;\n",
              "    }\n",
              "\n",
              "    .colab-df-convert {\n",
              "      background-color: #E8F0FE;\n",
              "      border: none;\n",
              "      border-radius: 50%;\n",
              "      cursor: pointer;\n",
              "      display: none;\n",
              "      fill: #1967D2;\n",
              "      height: 32px;\n",
              "      padding: 0 0 0 0;\n",
              "      width: 32px;\n",
              "    }\n",
              "\n",
              "    .colab-df-convert:hover {\n",
              "      background-color: #E2EBFA;\n",
              "      box-shadow: 0px 1px 2px rgba(60, 64, 67, 0.3), 0px 1px 3px 1px rgba(60, 64, 67, 0.15);\n",
              "      fill: #174EA6;\n",
              "    }\n",
              "\n",
              "    .colab-df-buttons div {\n",
              "      margin-bottom: 4px;\n",
              "    }\n",
              "\n",
              "    [theme=dark] .colab-df-convert {\n",
              "      background-color: #3B4455;\n",
              "      fill: #D2E3FC;\n",
              "    }\n",
              "\n",
              "    [theme=dark] .colab-df-convert:hover {\n",
              "      background-color: #434B5C;\n",
              "      box-shadow: 0px 1px 3px 1px rgba(0, 0, 0, 0.15);\n",
              "      filter: drop-shadow(0px 1px 2px rgba(0, 0, 0, 0.3));\n",
              "      fill: #FFFFFF;\n",
              "    }\n",
              "  </style>\n",
              "\n",
              "    <script>\n",
              "      const buttonEl =\n",
              "        document.querySelector('#df-3c5ad33c-59ca-47f2-8978-cb539cd675f0 button.colab-df-convert');\n",
              "      buttonEl.style.display =\n",
              "        google.colab.kernel.accessAllowed ? 'block' : 'none';\n",
              "\n",
              "      async function convertToInteractive(key) {\n",
              "        const element = document.querySelector('#df-3c5ad33c-59ca-47f2-8978-cb539cd675f0');\n",
              "        const dataTable =\n",
              "          await google.colab.kernel.invokeFunction('convertToInteractive',\n",
              "                                                    [key], {});\n",
              "        if (!dataTable) return;\n",
              "\n",
              "        const docLinkHtml = 'Like what you see? Visit the ' +\n",
              "          '<a target=\"_blank\" href=https://colab.research.google.com/notebooks/data_table.ipynb>data table notebook</a>'\n",
              "          + ' to learn more about interactive tables.';\n",
              "        element.innerHTML = '';\n",
              "        dataTable['output_type'] = 'display_data';\n",
              "        await google.colab.output.renderOutput(dataTable, element);\n",
              "        const docLink = document.createElement('div');\n",
              "        docLink.innerHTML = docLinkHtml;\n",
              "        element.appendChild(docLink);\n",
              "      }\n",
              "    </script>\n",
              "  </div>\n",
              "\n",
              "\n",
              "    <div id=\"df-bd658075-c8b5-425f-8acc-4a97fc606671\">\n",
              "      <button class=\"colab-df-quickchart\" onclick=\"quickchart('df-bd658075-c8b5-425f-8acc-4a97fc606671')\"\n",
              "                title=\"Suggest charts\"\n",
              "                style=\"display:none;\">\n",
              "\n",
              "<svg xmlns=\"http://www.w3.org/2000/svg\" height=\"24px\"viewBox=\"0 0 24 24\"\n",
              "     width=\"24px\">\n",
              "    <g>\n",
              "        <path d=\"M19 3H5c-1.1 0-2 .9-2 2v14c0 1.1.9 2 2 2h14c1.1 0 2-.9 2-2V5c0-1.1-.9-2-2-2zM9 17H7v-7h2v7zm4 0h-2V7h2v10zm4 0h-2v-4h2v4z\"/>\n",
              "    </g>\n",
              "</svg>\n",
              "      </button>\n",
              "\n",
              "<style>\n",
              "  .colab-df-quickchart {\n",
              "      --bg-color: #E8F0FE;\n",
              "      --fill-color: #1967D2;\n",
              "      --hover-bg-color: #E2EBFA;\n",
              "      --hover-fill-color: #174EA6;\n",
              "      --disabled-fill-color: #AAA;\n",
              "      --disabled-bg-color: #DDD;\n",
              "  }\n",
              "\n",
              "  [theme=dark] .colab-df-quickchart {\n",
              "      --bg-color: #3B4455;\n",
              "      --fill-color: #D2E3FC;\n",
              "      --hover-bg-color: #434B5C;\n",
              "      --hover-fill-color: #FFFFFF;\n",
              "      --disabled-bg-color: #3B4455;\n",
              "      --disabled-fill-color: #666;\n",
              "  }\n",
              "\n",
              "  .colab-df-quickchart {\n",
              "    background-color: var(--bg-color);\n",
              "    border: none;\n",
              "    border-radius: 50%;\n",
              "    cursor: pointer;\n",
              "    display: none;\n",
              "    fill: var(--fill-color);\n",
              "    height: 32px;\n",
              "    padding: 0;\n",
              "    width: 32px;\n",
              "  }\n",
              "\n",
              "  .colab-df-quickchart:hover {\n",
              "    background-color: var(--hover-bg-color);\n",
              "    box-shadow: 0 1px 2px rgba(60, 64, 67, 0.3), 0 1px 3px 1px rgba(60, 64, 67, 0.15);\n",
              "    fill: var(--button-hover-fill-color);\n",
              "  }\n",
              "\n",
              "  .colab-df-quickchart-complete:disabled,\n",
              "  .colab-df-quickchart-complete:disabled:hover {\n",
              "    background-color: var(--disabled-bg-color);\n",
              "    fill: var(--disabled-fill-color);\n",
              "    box-shadow: none;\n",
              "  }\n",
              "\n",
              "  .colab-df-spinner {\n",
              "    border: 2px solid var(--fill-color);\n",
              "    border-color: transparent;\n",
              "    border-bottom-color: var(--fill-color);\n",
              "    animation:\n",
              "      spin 1s steps(1) infinite;\n",
              "  }\n",
              "\n",
              "  @keyframes spin {\n",
              "    0% {\n",
              "      border-color: transparent;\n",
              "      border-bottom-color: var(--fill-color);\n",
              "      border-left-color: var(--fill-color);\n",
              "    }\n",
              "    20% {\n",
              "      border-color: transparent;\n",
              "      border-left-color: var(--fill-color);\n",
              "      border-top-color: var(--fill-color);\n",
              "    }\n",
              "    30% {\n",
              "      border-color: transparent;\n",
              "      border-left-color: var(--fill-color);\n",
              "      border-top-color: var(--fill-color);\n",
              "      border-right-color: var(--fill-color);\n",
              "    }\n",
              "    40% {\n",
              "      border-color: transparent;\n",
              "      border-right-color: var(--fill-color);\n",
              "      border-top-color: var(--fill-color);\n",
              "    }\n",
              "    60% {\n",
              "      border-color: transparent;\n",
              "      border-right-color: var(--fill-color);\n",
              "    }\n",
              "    80% {\n",
              "      border-color: transparent;\n",
              "      border-right-color: var(--fill-color);\n",
              "      border-bottom-color: var(--fill-color);\n",
              "    }\n",
              "    90% {\n",
              "      border-color: transparent;\n",
              "      border-bottom-color: var(--fill-color);\n",
              "    }\n",
              "  }\n",
              "</style>\n",
              "\n",
              "      <script>\n",
              "        async function quickchart(key) {\n",
              "          const quickchartButtonEl =\n",
              "            document.querySelector('#' + key + ' button');\n",
              "          quickchartButtonEl.disabled = true;  // To prevent multiple clicks.\n",
              "          quickchartButtonEl.classList.add('colab-df-spinner');\n",
              "          try {\n",
              "            const charts = await google.colab.kernel.invokeFunction(\n",
              "                'suggestCharts', [key], {});\n",
              "          } catch (error) {\n",
              "            console.error('Error during call to suggestCharts:', error);\n",
              "          }\n",
              "          quickchartButtonEl.classList.remove('colab-df-spinner');\n",
              "          quickchartButtonEl.classList.add('colab-df-quickchart-complete');\n",
              "        }\n",
              "        (() => {\n",
              "          let quickchartButtonEl =\n",
              "            document.querySelector('#df-bd658075-c8b5-425f-8acc-4a97fc606671 button');\n",
              "          quickchartButtonEl.style.display =\n",
              "            google.colab.kernel.accessAllowed ? 'block' : 'none';\n",
              "        })();\n",
              "      </script>\n",
              "    </div>\n",
              "\n",
              "    </div>\n",
              "  </div>\n"
            ],
            "application/vnd.google.colaboratory.intrinsic+json": {
              "type": "dataframe",
              "summary": "{\n  \"name\": \"pd\",\n  \"rows\": 10,\n  \"fields\": [\n    {\n      \"column\": \"label\",\n      \"properties\": {\n        \"dtype\": \"uint8\",\n        \"num_unique_values\": 10,\n        \"samples\": [\n          8,\n          1,\n          5\n        ],\n        \"semantic_type\": \"\",\n        \"description\": \"\"\n      }\n    },\n    {\n      \"column\": 0,\n      \"properties\": {\n        \"dtype\": \"number\",\n        \"std\": 229,\n        \"min\": 13,\n        \"max\": 809,\n        \"num_unique_values\": 10,\n        \"samples\": [\n          369,\n          13,\n          130\n        ],\n        \"semantic_type\": \"\",\n        \"description\": \"\"\n      }\n    },\n    {\n      \"column\": 1,\n      \"properties\": {\n        \"dtype\": \"number\",\n        \"std\": 266,\n        \"min\": 36,\n        \"max\": 942,\n        \"num_unique_values\": 10,\n        \"samples\": [\n          134,\n          942,\n          95\n        ],\n        \"semantic_type\": \"\",\n        \"description\": \"\"\n      }\n    },\n    {\n      \"column\": 2,\n      \"properties\": {\n        \"dtype\": \"number\",\n        \"std\": 135,\n        \"min\": 2,\n        \"max\": 462,\n        \"num_unique_values\": 10,\n        \"samples\": [\n          24,\n          4,\n          84\n        ],\n        \"semantic_type\": \"\",\n        \"description\": \"\"\n      }\n    },\n    {\n      \"column\": 3,\n      \"properties\": {\n        \"dtype\": \"number\",\n        \"std\": 53,\n        \"min\": 0,\n        \"max\": 172,\n        \"num_unique_values\": 9,\n        \"samples\": [\n          12,\n          0,\n          71\n        ],\n        \"semantic_type\": \"\",\n        \"description\": \"\"\n      }\n    },\n    {\n      \"column\": 4,\n      \"properties\": {\n        \"dtype\": \"number\",\n        \"std\": 57,\n        \"min\": 2,\n        \"max\": 192,\n        \"num_unique_values\": 9,\n        \"samples\": [\n          14,\n          2,\n          12\n        ],\n        \"semantic_type\": \"\",\n        \"description\": \"\"\n      }\n    },\n    {\n      \"column\": 5,\n      \"properties\": {\n        \"dtype\": \"number\",\n        \"std\": 133,\n        \"min\": 0,\n        \"max\": 437,\n        \"num_unique_values\": 9,\n        \"samples\": [\n          1,\n          45,\n          28\n        ],\n        \"semantic_type\": \"\",\n        \"description\": \"\"\n      }\n    },\n    {\n      \"column\": 6,\n      \"properties\": {\n        \"dtype\": \"number\",\n        \"std\": 50,\n        \"min\": 0,\n        \"max\": 161,\n        \"num_unique_values\": 6,\n        \"samples\": [\n          0,\n          3,\n          161\n        ],\n        \"semantic_type\": \"\",\n        \"description\": \"\"\n      }\n    },\n    {\n      \"column\": 7,\n      \"properties\": {\n        \"dtype\": \"number\",\n        \"std\": 247,\n        \"min\": 3,\n        \"max\": 820,\n        \"num_unique_values\": 10,\n        \"samples\": [\n          11,\n          3,\n          115\n        ],\n        \"semantic_type\": \"\",\n        \"description\": \"\"\n      }\n    },\n    {\n      \"column\": 8,\n      \"properties\": {\n        \"dtype\": \"number\",\n        \"std\": 117,\n        \"min\": 1,\n        \"max\": 386,\n        \"num_unique_values\": 10,\n        \"samples\": [\n          386,\n          6,\n          25\n        ],\n        \"semantic_type\": \"\",\n        \"description\": \"\"\n      }\n    },\n    {\n      \"column\": 9,\n      \"properties\": {\n        \"dtype\": \"number\",\n        \"std\": 215,\n        \"min\": 17,\n        \"max\": 718,\n        \"num_unique_values\": 9,\n        \"samples\": [\n          64,\n          30,\n          68\n        ],\n        \"semantic_type\": \"\",\n        \"description\": \"\"\n      }\n    }\n  ]\n}"
            }
          },
          "metadata": {},
          "execution_count": 45
        }
      ]
    },
    {
      "cell_type": "code",
      "source": [
        "# 每一筆測試資料的真實結果標籤(label)與預測結果標籤(predict)的表格(df)\n",
        "\n",
        "df = pd.DataFrame({'label': y_test_label.ravel(), 'predict': predicted_labels})\n",
        "df[:10] # 表格前10筆測試資料"
      ],
      "metadata": {
        "colab": {
          "base_uri": "https://localhost:8080/",
          "height": 363
        },
        "id": "U4HNh72_pgRQ",
        "outputId": "fdf8d1d1-c204-44ab-a6b2-9edce4d97feb"
      },
      "execution_count": 46,
      "outputs": [
        {
          "output_type": "execute_result",
          "data": {
            "text/plain": [
              "   label  predict\n",
              "0      3        3\n",
              "1      8        8\n",
              "2      8        8\n",
              "3      0        0\n",
              "4      6        2\n",
              "5      6        0\n",
              "6      1        1\n",
              "7      6        6\n",
              "8      3        7\n",
              "9      1        1"
            ],
            "text/html": [
              "\n",
              "  <div id=\"df-d71c71be-f745-4fa4-817d-1f5ae46108f8\" class=\"colab-df-container\">\n",
              "    <div>\n",
              "<style scoped>\n",
              "    .dataframe tbody tr th:only-of-type {\n",
              "        vertical-align: middle;\n",
              "    }\n",
              "\n",
              "    .dataframe tbody tr th {\n",
              "        vertical-align: top;\n",
              "    }\n",
              "\n",
              "    .dataframe thead th {\n",
              "        text-align: right;\n",
              "    }\n",
              "</style>\n",
              "<table border=\"1\" class=\"dataframe\">\n",
              "  <thead>\n",
              "    <tr style=\"text-align: right;\">\n",
              "      <th></th>\n",
              "      <th>label</th>\n",
              "      <th>predict</th>\n",
              "    </tr>\n",
              "  </thead>\n",
              "  <tbody>\n",
              "    <tr>\n",
              "      <th>0</th>\n",
              "      <td>3</td>\n",
              "      <td>3</td>\n",
              "    </tr>\n",
              "    <tr>\n",
              "      <th>1</th>\n",
              "      <td>8</td>\n",
              "      <td>8</td>\n",
              "    </tr>\n",
              "    <tr>\n",
              "      <th>2</th>\n",
              "      <td>8</td>\n",
              "      <td>8</td>\n",
              "    </tr>\n",
              "    <tr>\n",
              "      <th>3</th>\n",
              "      <td>0</td>\n",
              "      <td>0</td>\n",
              "    </tr>\n",
              "    <tr>\n",
              "      <th>4</th>\n",
              "      <td>6</td>\n",
              "      <td>2</td>\n",
              "    </tr>\n",
              "    <tr>\n",
              "      <th>5</th>\n",
              "      <td>6</td>\n",
              "      <td>0</td>\n",
              "    </tr>\n",
              "    <tr>\n",
              "      <th>6</th>\n",
              "      <td>1</td>\n",
              "      <td>1</td>\n",
              "    </tr>\n",
              "    <tr>\n",
              "      <th>7</th>\n",
              "      <td>6</td>\n",
              "      <td>6</td>\n",
              "    </tr>\n",
              "    <tr>\n",
              "      <th>8</th>\n",
              "      <td>3</td>\n",
              "      <td>7</td>\n",
              "    </tr>\n",
              "    <tr>\n",
              "      <th>9</th>\n",
              "      <td>1</td>\n",
              "      <td>1</td>\n",
              "    </tr>\n",
              "  </tbody>\n",
              "</table>\n",
              "</div>\n",
              "    <div class=\"colab-df-buttons\">\n",
              "\n",
              "  <div class=\"colab-df-container\">\n",
              "    <button class=\"colab-df-convert\" onclick=\"convertToInteractive('df-d71c71be-f745-4fa4-817d-1f5ae46108f8')\"\n",
              "            title=\"Convert this dataframe to an interactive table.\"\n",
              "            style=\"display:none;\">\n",
              "\n",
              "  <svg xmlns=\"http://www.w3.org/2000/svg\" height=\"24px\" viewBox=\"0 -960 960 960\">\n",
              "    <path d=\"M120-120v-720h720v720H120Zm60-500h600v-160H180v160Zm220 220h160v-160H400v160Zm0 220h160v-160H400v160ZM180-400h160v-160H180v160Zm440 0h160v-160H620v160ZM180-180h160v-160H180v160Zm440 0h160v-160H620v160Z\"/>\n",
              "  </svg>\n",
              "    </button>\n",
              "\n",
              "  <style>\n",
              "    .colab-df-container {\n",
              "      display:flex;\n",
              "      gap: 12px;\n",
              "    }\n",
              "\n",
              "    .colab-df-convert {\n",
              "      background-color: #E8F0FE;\n",
              "      border: none;\n",
              "      border-radius: 50%;\n",
              "      cursor: pointer;\n",
              "      display: none;\n",
              "      fill: #1967D2;\n",
              "      height: 32px;\n",
              "      padding: 0 0 0 0;\n",
              "      width: 32px;\n",
              "    }\n",
              "\n",
              "    .colab-df-convert:hover {\n",
              "      background-color: #E2EBFA;\n",
              "      box-shadow: 0px 1px 2px rgba(60, 64, 67, 0.3), 0px 1px 3px 1px rgba(60, 64, 67, 0.15);\n",
              "      fill: #174EA6;\n",
              "    }\n",
              "\n",
              "    .colab-df-buttons div {\n",
              "      margin-bottom: 4px;\n",
              "    }\n",
              "\n",
              "    [theme=dark] .colab-df-convert {\n",
              "      background-color: #3B4455;\n",
              "      fill: #D2E3FC;\n",
              "    }\n",
              "\n",
              "    [theme=dark] .colab-df-convert:hover {\n",
              "      background-color: #434B5C;\n",
              "      box-shadow: 0px 1px 3px 1px rgba(0, 0, 0, 0.15);\n",
              "      filter: drop-shadow(0px 1px 2px rgba(0, 0, 0, 0.3));\n",
              "      fill: #FFFFFF;\n",
              "    }\n",
              "  </style>\n",
              "\n",
              "    <script>\n",
              "      const buttonEl =\n",
              "        document.querySelector('#df-d71c71be-f745-4fa4-817d-1f5ae46108f8 button.colab-df-convert');\n",
              "      buttonEl.style.display =\n",
              "        google.colab.kernel.accessAllowed ? 'block' : 'none';\n",
              "\n",
              "      async function convertToInteractive(key) {\n",
              "        const element = document.querySelector('#df-d71c71be-f745-4fa4-817d-1f5ae46108f8');\n",
              "        const dataTable =\n",
              "          await google.colab.kernel.invokeFunction('convertToInteractive',\n",
              "                                                    [key], {});\n",
              "        if (!dataTable) return;\n",
              "\n",
              "        const docLinkHtml = 'Like what you see? Visit the ' +\n",
              "          '<a target=\"_blank\" href=https://colab.research.google.com/notebooks/data_table.ipynb>data table notebook</a>'\n",
              "          + ' to learn more about interactive tables.';\n",
              "        element.innerHTML = '';\n",
              "        dataTable['output_type'] = 'display_data';\n",
              "        await google.colab.output.renderOutput(dataTable, element);\n",
              "        const docLink = document.createElement('div');\n",
              "        docLink.innerHTML = docLinkHtml;\n",
              "        element.appendChild(docLink);\n",
              "      }\n",
              "    </script>\n",
              "  </div>\n",
              "\n",
              "\n",
              "    <div id=\"df-f14b6461-4f41-4648-b243-eac4763be29e\">\n",
              "      <button class=\"colab-df-quickchart\" onclick=\"quickchart('df-f14b6461-4f41-4648-b243-eac4763be29e')\"\n",
              "                title=\"Suggest charts\"\n",
              "                style=\"display:none;\">\n",
              "\n",
              "<svg xmlns=\"http://www.w3.org/2000/svg\" height=\"24px\"viewBox=\"0 0 24 24\"\n",
              "     width=\"24px\">\n",
              "    <g>\n",
              "        <path d=\"M19 3H5c-1.1 0-2 .9-2 2v14c0 1.1.9 2 2 2h14c1.1 0 2-.9 2-2V5c0-1.1-.9-2-2-2zM9 17H7v-7h2v7zm4 0h-2V7h2v10zm4 0h-2v-4h2v4z\"/>\n",
              "    </g>\n",
              "</svg>\n",
              "      </button>\n",
              "\n",
              "<style>\n",
              "  .colab-df-quickchart {\n",
              "      --bg-color: #E8F0FE;\n",
              "      --fill-color: #1967D2;\n",
              "      --hover-bg-color: #E2EBFA;\n",
              "      --hover-fill-color: #174EA6;\n",
              "      --disabled-fill-color: #AAA;\n",
              "      --disabled-bg-color: #DDD;\n",
              "  }\n",
              "\n",
              "  [theme=dark] .colab-df-quickchart {\n",
              "      --bg-color: #3B4455;\n",
              "      --fill-color: #D2E3FC;\n",
              "      --hover-bg-color: #434B5C;\n",
              "      --hover-fill-color: #FFFFFF;\n",
              "      --disabled-bg-color: #3B4455;\n",
              "      --disabled-fill-color: #666;\n",
              "  }\n",
              "\n",
              "  .colab-df-quickchart {\n",
              "    background-color: var(--bg-color);\n",
              "    border: none;\n",
              "    border-radius: 50%;\n",
              "    cursor: pointer;\n",
              "    display: none;\n",
              "    fill: var(--fill-color);\n",
              "    height: 32px;\n",
              "    padding: 0;\n",
              "    width: 32px;\n",
              "  }\n",
              "\n",
              "  .colab-df-quickchart:hover {\n",
              "    background-color: var(--hover-bg-color);\n",
              "    box-shadow: 0 1px 2px rgba(60, 64, 67, 0.3), 0 1px 3px 1px rgba(60, 64, 67, 0.15);\n",
              "    fill: var(--button-hover-fill-color);\n",
              "  }\n",
              "\n",
              "  .colab-df-quickchart-complete:disabled,\n",
              "  .colab-df-quickchart-complete:disabled:hover {\n",
              "    background-color: var(--disabled-bg-color);\n",
              "    fill: var(--disabled-fill-color);\n",
              "    box-shadow: none;\n",
              "  }\n",
              "\n",
              "  .colab-df-spinner {\n",
              "    border: 2px solid var(--fill-color);\n",
              "    border-color: transparent;\n",
              "    border-bottom-color: var(--fill-color);\n",
              "    animation:\n",
              "      spin 1s steps(1) infinite;\n",
              "  }\n",
              "\n",
              "  @keyframes spin {\n",
              "    0% {\n",
              "      border-color: transparent;\n",
              "      border-bottom-color: var(--fill-color);\n",
              "      border-left-color: var(--fill-color);\n",
              "    }\n",
              "    20% {\n",
              "      border-color: transparent;\n",
              "      border-left-color: var(--fill-color);\n",
              "      border-top-color: var(--fill-color);\n",
              "    }\n",
              "    30% {\n",
              "      border-color: transparent;\n",
              "      border-left-color: var(--fill-color);\n",
              "      border-top-color: var(--fill-color);\n",
              "      border-right-color: var(--fill-color);\n",
              "    }\n",
              "    40% {\n",
              "      border-color: transparent;\n",
              "      border-right-color: var(--fill-color);\n",
              "      border-top-color: var(--fill-color);\n",
              "    }\n",
              "    60% {\n",
              "      border-color: transparent;\n",
              "      border-right-color: var(--fill-color);\n",
              "    }\n",
              "    80% {\n",
              "      border-color: transparent;\n",
              "      border-right-color: var(--fill-color);\n",
              "      border-bottom-color: var(--fill-color);\n",
              "    }\n",
              "    90% {\n",
              "      border-color: transparent;\n",
              "      border-bottom-color: var(--fill-color);\n",
              "    }\n",
              "  }\n",
              "</style>\n",
              "\n",
              "      <script>\n",
              "        async function quickchart(key) {\n",
              "          const quickchartButtonEl =\n",
              "            document.querySelector('#' + key + ' button');\n",
              "          quickchartButtonEl.disabled = true;  // To prevent multiple clicks.\n",
              "          quickchartButtonEl.classList.add('colab-df-spinner');\n",
              "          try {\n",
              "            const charts = await google.colab.kernel.invokeFunction(\n",
              "                'suggestCharts', [key], {});\n",
              "          } catch (error) {\n",
              "            console.error('Error during call to suggestCharts:', error);\n",
              "          }\n",
              "          quickchartButtonEl.classList.remove('colab-df-spinner');\n",
              "          quickchartButtonEl.classList.add('colab-df-quickchart-complete');\n",
              "        }\n",
              "        (() => {\n",
              "          let quickchartButtonEl =\n",
              "            document.querySelector('#df-f14b6461-4f41-4648-b243-eac4763be29e button');\n",
              "          quickchartButtonEl.style.display =\n",
              "            google.colab.kernel.accessAllowed ? 'block' : 'none';\n",
              "        })();\n",
              "      </script>\n",
              "    </div>\n",
              "\n",
              "    </div>\n",
              "  </div>\n"
            ],
            "application/vnd.google.colaboratory.intrinsic+json": {
              "type": "dataframe",
              "summary": "{\n  \"name\": \"df[:10] # \\u8868\\u683c\\u524d10\\u7b46\\u6e2c\\u8a66\\u8cc7\\u6599\",\n  \"rows\": 10,\n  \"fields\": [\n    {\n      \"column\": \"label\",\n      \"properties\": {\n        \"dtype\": \"uint8\",\n        \"num_unique_values\": 5,\n        \"samples\": [\n          8,\n          1,\n          0\n        ],\n        \"semantic_type\": \"\",\n        \"description\": \"\"\n      }\n    },\n    {\n      \"column\": \"predict\",\n      \"properties\": {\n        \"dtype\": \"number\",\n        \"std\": 3,\n        \"min\": 0,\n        \"max\": 8,\n        \"num_unique_values\": 7,\n        \"samples\": [\n          3,\n          8,\n          6\n        ],\n        \"semantic_type\": \"\",\n        \"description\": \"\"\n      }\n    }\n  ]\n}"
            }
          },
          "metadata": {},
          "execution_count": 46
        }
      ]
    },
    {
      "cell_type": "code",
      "source": [
        "df[(df.label==5)&(df.predict==3)]  # 真實標籤為5，卻預測為3"
      ],
      "metadata": {
        "colab": {
          "base_uri": "https://localhost:8080/",
          "height": 423
        },
        "id": "-D_vL9TOp308",
        "outputId": "6cd7dbf6-48b0-412d-e699-f38d653aab2b"
      },
      "execution_count": 47,
      "outputs": [
        {
          "output_type": "execute_result",
          "data": {
            "text/plain": [
              "      label  predict\n",
              "33        5        3\n",
              "101       5        3\n",
              "460       5        3\n",
              "550       5        3\n",
              "553       5        3\n",
              "...     ...      ...\n",
              "8752      5        3\n",
              "8869      5        3\n",
              "8973      5        3\n",
              "8997      5        3\n",
              "9396      5        3\n",
              "\n",
              "[71 rows x 2 columns]"
            ],
            "text/html": [
              "\n",
              "  <div id=\"df-db8fb484-c299-476f-90c1-1598a91b9079\" class=\"colab-df-container\">\n",
              "    <div>\n",
              "<style scoped>\n",
              "    .dataframe tbody tr th:only-of-type {\n",
              "        vertical-align: middle;\n",
              "    }\n",
              "\n",
              "    .dataframe tbody tr th {\n",
              "        vertical-align: top;\n",
              "    }\n",
              "\n",
              "    .dataframe thead th {\n",
              "        text-align: right;\n",
              "    }\n",
              "</style>\n",
              "<table border=\"1\" class=\"dataframe\">\n",
              "  <thead>\n",
              "    <tr style=\"text-align: right;\">\n",
              "      <th></th>\n",
              "      <th>label</th>\n",
              "      <th>predict</th>\n",
              "    </tr>\n",
              "  </thead>\n",
              "  <tbody>\n",
              "    <tr>\n",
              "      <th>33</th>\n",
              "      <td>5</td>\n",
              "      <td>3</td>\n",
              "    </tr>\n",
              "    <tr>\n",
              "      <th>101</th>\n",
              "      <td>5</td>\n",
              "      <td>3</td>\n",
              "    </tr>\n",
              "    <tr>\n",
              "      <th>460</th>\n",
              "      <td>5</td>\n",
              "      <td>3</td>\n",
              "    </tr>\n",
              "    <tr>\n",
              "      <th>550</th>\n",
              "      <td>5</td>\n",
              "      <td>3</td>\n",
              "    </tr>\n",
              "    <tr>\n",
              "      <th>553</th>\n",
              "      <td>5</td>\n",
              "      <td>3</td>\n",
              "    </tr>\n",
              "    <tr>\n",
              "      <th>...</th>\n",
              "      <td>...</td>\n",
              "      <td>...</td>\n",
              "    </tr>\n",
              "    <tr>\n",
              "      <th>8752</th>\n",
              "      <td>5</td>\n",
              "      <td>3</td>\n",
              "    </tr>\n",
              "    <tr>\n",
              "      <th>8869</th>\n",
              "      <td>5</td>\n",
              "      <td>3</td>\n",
              "    </tr>\n",
              "    <tr>\n",
              "      <th>8973</th>\n",
              "      <td>5</td>\n",
              "      <td>3</td>\n",
              "    </tr>\n",
              "    <tr>\n",
              "      <th>8997</th>\n",
              "      <td>5</td>\n",
              "      <td>3</td>\n",
              "    </tr>\n",
              "    <tr>\n",
              "      <th>9396</th>\n",
              "      <td>5</td>\n",
              "      <td>3</td>\n",
              "    </tr>\n",
              "  </tbody>\n",
              "</table>\n",
              "<p>71 rows × 2 columns</p>\n",
              "</div>\n",
              "    <div class=\"colab-df-buttons\">\n",
              "\n",
              "  <div class=\"colab-df-container\">\n",
              "    <button class=\"colab-df-convert\" onclick=\"convertToInteractive('df-db8fb484-c299-476f-90c1-1598a91b9079')\"\n",
              "            title=\"Convert this dataframe to an interactive table.\"\n",
              "            style=\"display:none;\">\n",
              "\n",
              "  <svg xmlns=\"http://www.w3.org/2000/svg\" height=\"24px\" viewBox=\"0 -960 960 960\">\n",
              "    <path d=\"M120-120v-720h720v720H120Zm60-500h600v-160H180v160Zm220 220h160v-160H400v160Zm0 220h160v-160H400v160ZM180-400h160v-160H180v160Zm440 0h160v-160H620v160ZM180-180h160v-160H180v160Zm440 0h160v-160H620v160Z\"/>\n",
              "  </svg>\n",
              "    </button>\n",
              "\n",
              "  <style>\n",
              "    .colab-df-container {\n",
              "      display:flex;\n",
              "      gap: 12px;\n",
              "    }\n",
              "\n",
              "    .colab-df-convert {\n",
              "      background-color: #E8F0FE;\n",
              "      border: none;\n",
              "      border-radius: 50%;\n",
              "      cursor: pointer;\n",
              "      display: none;\n",
              "      fill: #1967D2;\n",
              "      height: 32px;\n",
              "      padding: 0 0 0 0;\n",
              "      width: 32px;\n",
              "    }\n",
              "\n",
              "    .colab-df-convert:hover {\n",
              "      background-color: #E2EBFA;\n",
              "      box-shadow: 0px 1px 2px rgba(60, 64, 67, 0.3), 0px 1px 3px 1px rgba(60, 64, 67, 0.15);\n",
              "      fill: #174EA6;\n",
              "    }\n",
              "\n",
              "    .colab-df-buttons div {\n",
              "      margin-bottom: 4px;\n",
              "    }\n",
              "\n",
              "    [theme=dark] .colab-df-convert {\n",
              "      background-color: #3B4455;\n",
              "      fill: #D2E3FC;\n",
              "    }\n",
              "\n",
              "    [theme=dark] .colab-df-convert:hover {\n",
              "      background-color: #434B5C;\n",
              "      box-shadow: 0px 1px 3px 1px rgba(0, 0, 0, 0.15);\n",
              "      filter: drop-shadow(0px 1px 2px rgba(0, 0, 0, 0.3));\n",
              "      fill: #FFFFFF;\n",
              "    }\n",
              "  </style>\n",
              "\n",
              "    <script>\n",
              "      const buttonEl =\n",
              "        document.querySelector('#df-db8fb484-c299-476f-90c1-1598a91b9079 button.colab-df-convert');\n",
              "      buttonEl.style.display =\n",
              "        google.colab.kernel.accessAllowed ? 'block' : 'none';\n",
              "\n",
              "      async function convertToInteractive(key) {\n",
              "        const element = document.querySelector('#df-db8fb484-c299-476f-90c1-1598a91b9079');\n",
              "        const dataTable =\n",
              "          await google.colab.kernel.invokeFunction('convertToInteractive',\n",
              "                                                    [key], {});\n",
              "        if (!dataTable) return;\n",
              "\n",
              "        const docLinkHtml = 'Like what you see? Visit the ' +\n",
              "          '<a target=\"_blank\" href=https://colab.research.google.com/notebooks/data_table.ipynb>data table notebook</a>'\n",
              "          + ' to learn more about interactive tables.';\n",
              "        element.innerHTML = '';\n",
              "        dataTable['output_type'] = 'display_data';\n",
              "        await google.colab.output.renderOutput(dataTable, element);\n",
              "        const docLink = document.createElement('div');\n",
              "        docLink.innerHTML = docLinkHtml;\n",
              "        element.appendChild(docLink);\n",
              "      }\n",
              "    </script>\n",
              "  </div>\n",
              "\n",
              "\n",
              "    <div id=\"df-54035b63-5de6-4bf2-bdd0-04658a505f58\">\n",
              "      <button class=\"colab-df-quickchart\" onclick=\"quickchart('df-54035b63-5de6-4bf2-bdd0-04658a505f58')\"\n",
              "                title=\"Suggest charts\"\n",
              "                style=\"display:none;\">\n",
              "\n",
              "<svg xmlns=\"http://www.w3.org/2000/svg\" height=\"24px\"viewBox=\"0 0 24 24\"\n",
              "     width=\"24px\">\n",
              "    <g>\n",
              "        <path d=\"M19 3H5c-1.1 0-2 .9-2 2v14c0 1.1.9 2 2 2h14c1.1 0 2-.9 2-2V5c0-1.1-.9-2-2-2zM9 17H7v-7h2v7zm4 0h-2V7h2v10zm4 0h-2v-4h2v4z\"/>\n",
              "    </g>\n",
              "</svg>\n",
              "      </button>\n",
              "\n",
              "<style>\n",
              "  .colab-df-quickchart {\n",
              "      --bg-color: #E8F0FE;\n",
              "      --fill-color: #1967D2;\n",
              "      --hover-bg-color: #E2EBFA;\n",
              "      --hover-fill-color: #174EA6;\n",
              "      --disabled-fill-color: #AAA;\n",
              "      --disabled-bg-color: #DDD;\n",
              "  }\n",
              "\n",
              "  [theme=dark] .colab-df-quickchart {\n",
              "      --bg-color: #3B4455;\n",
              "      --fill-color: #D2E3FC;\n",
              "      --hover-bg-color: #434B5C;\n",
              "      --hover-fill-color: #FFFFFF;\n",
              "      --disabled-bg-color: #3B4455;\n",
              "      --disabled-fill-color: #666;\n",
              "  }\n",
              "\n",
              "  .colab-df-quickchart {\n",
              "    background-color: var(--bg-color);\n",
              "    border: none;\n",
              "    border-radius: 50%;\n",
              "    cursor: pointer;\n",
              "    display: none;\n",
              "    fill: var(--fill-color);\n",
              "    height: 32px;\n",
              "    padding: 0;\n",
              "    width: 32px;\n",
              "  }\n",
              "\n",
              "  .colab-df-quickchart:hover {\n",
              "    background-color: var(--hover-bg-color);\n",
              "    box-shadow: 0 1px 2px rgba(60, 64, 67, 0.3), 0 1px 3px 1px rgba(60, 64, 67, 0.15);\n",
              "    fill: var(--button-hover-fill-color);\n",
              "  }\n",
              "\n",
              "  .colab-df-quickchart-complete:disabled,\n",
              "  .colab-df-quickchart-complete:disabled:hover {\n",
              "    background-color: var(--disabled-bg-color);\n",
              "    fill: var(--disabled-fill-color);\n",
              "    box-shadow: none;\n",
              "  }\n",
              "\n",
              "  .colab-df-spinner {\n",
              "    border: 2px solid var(--fill-color);\n",
              "    border-color: transparent;\n",
              "    border-bottom-color: var(--fill-color);\n",
              "    animation:\n",
              "      spin 1s steps(1) infinite;\n",
              "  }\n",
              "\n",
              "  @keyframes spin {\n",
              "    0% {\n",
              "      border-color: transparent;\n",
              "      border-bottom-color: var(--fill-color);\n",
              "      border-left-color: var(--fill-color);\n",
              "    }\n",
              "    20% {\n",
              "      border-color: transparent;\n",
              "      border-left-color: var(--fill-color);\n",
              "      border-top-color: var(--fill-color);\n",
              "    }\n",
              "    30% {\n",
              "      border-color: transparent;\n",
              "      border-left-color: var(--fill-color);\n",
              "      border-top-color: var(--fill-color);\n",
              "      border-right-color: var(--fill-color);\n",
              "    }\n",
              "    40% {\n",
              "      border-color: transparent;\n",
              "      border-right-color: var(--fill-color);\n",
              "      border-top-color: var(--fill-color);\n",
              "    }\n",
              "    60% {\n",
              "      border-color: transparent;\n",
              "      border-right-color: var(--fill-color);\n",
              "    }\n",
              "    80% {\n",
              "      border-color: transparent;\n",
              "      border-right-color: var(--fill-color);\n",
              "      border-bottom-color: var(--fill-color);\n",
              "    }\n",
              "    90% {\n",
              "      border-color: transparent;\n",
              "      border-bottom-color: var(--fill-color);\n",
              "    }\n",
              "  }\n",
              "</style>\n",
              "\n",
              "      <script>\n",
              "        async function quickchart(key) {\n",
              "          const quickchartButtonEl =\n",
              "            document.querySelector('#' + key + ' button');\n",
              "          quickchartButtonEl.disabled = true;  // To prevent multiple clicks.\n",
              "          quickchartButtonEl.classList.add('colab-df-spinner');\n",
              "          try {\n",
              "            const charts = await google.colab.kernel.invokeFunction(\n",
              "                'suggestCharts', [key], {});\n",
              "          } catch (error) {\n",
              "            console.error('Error during call to suggestCharts:', error);\n",
              "          }\n",
              "          quickchartButtonEl.classList.remove('colab-df-spinner');\n",
              "          quickchartButtonEl.classList.add('colab-df-quickchart-complete');\n",
              "        }\n",
              "        (() => {\n",
              "          let quickchartButtonEl =\n",
              "            document.querySelector('#df-54035b63-5de6-4bf2-bdd0-04658a505f58 button');\n",
              "          quickchartButtonEl.style.display =\n",
              "            google.colab.kernel.accessAllowed ? 'block' : 'none';\n",
              "        })();\n",
              "      </script>\n",
              "    </div>\n",
              "\n",
              "    </div>\n",
              "  </div>\n"
            ],
            "application/vnd.google.colaboratory.intrinsic+json": {
              "type": "dataframe",
              "summary": "{\n  \"name\": \"df[(df\",\n  \"rows\": 71,\n  \"fields\": [\n    {\n      \"column\": \"label\",\n      \"properties\": {\n        \"dtype\": \"uint8\",\n        \"num_unique_values\": 1,\n        \"samples\": [\n          5\n        ],\n        \"semantic_type\": \"\",\n        \"description\": \"\"\n      }\n    },\n    {\n      \"column\": \"predict\",\n      \"properties\": {\n        \"dtype\": \"number\",\n        \"std\": 0,\n        \"min\": 3,\n        \"max\": 3,\n        \"num_unique_values\": 1,\n        \"samples\": [\n          3\n        ],\n        \"semantic_type\": \"\",\n        \"description\": \"\"\n      }\n    }\n  ]\n}"
            }
          },
          "metadata": {},
          "execution_count": 47
        }
      ]
    },
    {
      "cell_type": "code",
      "source": [
        "plot_images_labels_prediction(x_test_image,y_test_label\n",
        "                              ,prediction,idx=340,num=1)"
      ],
      "metadata": {
        "colab": {
          "base_uri": "https://localhost:8080/",
          "height": 232
        },
        "id": "0oSElGZhp6ra",
        "outputId": "1f345b07-eb36-476f-a9da-50c4dac08f86"
      },
      "execution_count": 48,
      "outputs": [
        {
          "output_type": "display_data",
          "data": {
            "text/plain": [
              "<Figure size 1200x1400 with 1 Axes>"
            ],
            "image/png": "[encoded data removed]"
          },
          "metadata": {}
        }
      ]
    },
    {
      "cell_type": "code",
      "source": [
        "plot_images_labels_prediction(x_test_image,y_test_label\n",
        "                              ,prediction,idx=1289,num=1)"
      ],
      "metadata": {
        "colab": {
          "base_uri": "https://localhost:8080/",
          "height": 232
        },
        "id": "YnOL40Y9p90T",
        "outputId": "06ea792d-b447-4909-f9ed-95a551983646"
      },
      "execution_count": 49,
      "outputs": [
        {
          "output_type": "display_data",
          "data": {
            "text/plain": [
              "<Figure size 1200x1400 with 1 Axes>"
            ],
            "image/png": "[encoded data removed]"
          },
          "metadata": {}
        }
      ]
    },
    {
      "cell_type": "code",
      "source": [
        "from google.colab import drive"
      ],
      "metadata": {
        "id": "BSVchHemqVPN"
      },
      "execution_count": 50,
      "outputs": []
    },
    {
      "cell_type": "code",
      "source": [
        "drive.mount('/content/drive')"
      ],
      "metadata": {
        "colab": {
          "base_uri": "https://localhost:8080/"
        },
        "id": "juPOuVAJqWrV",
        "outputId": "ef1e2239-55b2-4fda-f67a-caa0a812cc2c"
      },
      "execution_count": null,
      "outputs": [
        {
          "output_type": "stream",
          "name": "stdout",
          "text": [
            "Mounted at /content/drive\n"
          ]
        }
      ]
    },
    {
      "cell_type": "code",
      "source": [
        "%cd 'content/drive/My Drive/Colab Notebooks'"
      ],
      "metadata": {
        "colab": {
          "base_uri": "https://localhost:8080/"
        },
        "id": "m1sY3opBqcuG",
        "outputId": "ab8a9a41-e314-46b6-f691-57f7f8ad94ab"
      },
      "execution_count": null,
      "outputs": [
        {
          "output_type": "stream",
          "name": "stdout",
          "text": [
            "[Errno 2] No such file or directory: 'content/drive/My Drive/Colab Notebooks'\n",
            "/content\n"
          ]
        }
      ]
    },
    {
      "cell_type": "code",
      "source": [
        "model.save('/content/drive/My Drive/hw4-2_model.keras')"
      ],
      "metadata": {
        "id": "Ur5PjS2qqfAl"
      },
      "execution_count": null,
      "outputs": []
    },
    {
      "cell_type": "code",
      "source": [
        "!ls \"/content/drive/My Drive\""
      ],
      "metadata": {
        "colab": {
          "base_uri": "https://localhost:8080/"
        },
        "id": "uewpKUebqg9b",
        "outputId": "b1f56102-4368-4c1e-b8db-32b167ad98c9"
      },
      "execution_count": null,
      "outputs": [
        {
          "output_type": "stream",
          "name": "stdout",
          "text": [
            " 0785._javscat_PGFD-038.mp4\t\t\t\t   IMG_6136.heic\n",
            " 106級_深度自助旅遊網站建置-臺灣為例_20200706_final.docx   IMG_6137.heic\n",
            "'1120812 CWT-64'\t\t\t\t\t   IMG_6138.heic\n",
            "'1120812 CWT-64 (1)'\t\t\t\t\t   IMG_6139.heic\n",
            " 112233\t\t\t\t\t\t\t   IMG_6140.HEIC\n",
            "'1209 10'\t\t\t\t\t\t   IMG_6141.HEIC\n",
            " 18校报录比22-24.rar\t\t\t\t\t   IMG_6142.HEIC\n",
            " 19148365-258e-4894-8a50-8b0f4b8b664f.pdf\t\t   IMG_6143.HEIC\n",
            " 3B032089阮彥翔\t\t\t\t\t\t   IMG_6144.HEIC\n",
            " 3B032089阮彥翔HW1\t\t\t\t\t   IMG_6145.HEIC\n",
            " 3B032089阮彥翔.zip\t\t\t\t\t   IMG_6146.HEIC\n",
            " 812CWT\t\t\t\t\t\t\t   IMG_6147.HEIC\n",
            " 818-FF41\t\t\t\t\t\t   IMG_6148.HEIC\n",
            " 919週記.gdoc\t\t\t\t\t\t   IMG_6149.HEIC\n",
            " ac8276b06a01cc92.docx\t\t\t\t\t   IMG_6150.heic\n",
            " C14-租約-230701-240630.xlsx\t\t\t\t   IMG_6151.HEIC\n",
            "'Colab Notebooks'\t\t\t\t\t   IMG_6165.HEIC\n",
            " DIP\t\t\t\t\t\t\t   IMG_6166.HEIC\n",
            " 「DSC_9844.JPG」のコピー\t\t\t\t   IMG_6168.HEIC\n",
            " 「DSC_9849.JPG」のコピー\t\t\t\t   IMG_6169.heic\n",
            " ERP配銷模組精選題庫.pdf\t\t\t\t   IMG_6170.heic\n",
            " FF42\t\t\t\t\t\t\t   IMG_6171.heic\n",
            "'Google Earth'\t\t\t\t\t\t   IMG_6172.HEIC\n",
            " hw3_model.keras\t\t\t\t\t   IMG_6173.HEIC\n",
            " hw4-1_model.keras\t\t\t\t\t   IMG_6174.HEIC\n",
            " hw4-2_model.keras\t\t\t\t\t   IMG_6175.HEIC\n",
            " IMG_0245.png\t\t\t\t\t\t   IMG_6176.heic\n",
            " IMG_6077.HEIC\t\t\t\t\t\t   IMG_6177.heic\n",
            " IMG_6078.HEIC\t\t\t\t\t\t   IMG_6178.HEIC\n",
            " IMG_6079.HEIC\t\t\t\t\t\t   IMG_6179.HEIC\n",
            " IMG_6080.HEIC\t\t\t\t\t\t   IMG_6180.HEIC\n",
            " IMG_6081.heic\t\t\t\t\t\t   IMG_6181.HEIC\n",
            " IMG_6082.heic\t\t\t\t\t\t   IMG_6182.heic\n",
            " IMG_6083.HEIC\t\t\t\t\t\t   IMG_6183.heic\n",
            " IMG_6088.heic\t\t\t\t\t\t   IMG_6648.MOV\n",
            " IMG_6089.heic\t\t\t\t\t\t   IMG_6649.MOV\n",
            " IMG_6090.HEIC\t\t\t\t\t\t   IMG_6650.MOV\n",
            " IMG_6091.HEIC\t\t\t\t\t\t   IMG_6651.MOV\n",
            " IMG_6092.HEIC\t\t\t\t\t\t   IMG_6652.MOV\n",
            " IMG_6093.HEIC\t\t\t\t\t\t   IMG_6658.MOV\n",
            " IMG_6094.HEIC\t\t\t\t\t\t   IMG_6885.HEIC\n",
            " IMG_6095.HEIC\t\t\t\t\t\t   IMG_6886.HEIC\n",
            " IMG_6096.HEIC\t\t\t\t\t\t   IMG_6887.HEIC\n",
            " IMG_6097.HEIC\t\t\t\t\t\t   IMG_6888.HEIC\n",
            " IMG_6098.heic\t\t\t\t\t\t   IMG_6917.HEIC\n",
            " IMG_6099.heic\t\t\t\t\t\t   IMG_6918.JPG\n",
            " IMG_6100.HEIC\t\t\t\t\t\t   IMG_6919.JPG\n",
            " IMG_6101.HEIC\t\t\t\t\t\t   IMG_8537.HEIC\n",
            " IMG_6102.HEIC\t\t\t\t\t\t   IMG_8538.HEIC\n",
            " IMG_6103.heic\t\t\t\t\t\t   IMG_8539.HEIC\n",
            " IMG_6104.HEIC\t\t\t\t\t\t   IMG_9980.HEIC\n",
            " IMG_6105.HEIC\t\t\t\t\t\t  'Northwind (2).ldb'\n",
            " IMG_6106.heic\t\t\t\t\t\t   RPReplay_Final1697022944.MP4\n",
            " IMG_6107.heic\t\t\t\t\t\t   RPReplay_Final1697023142.MP4\n",
            " IMG_6108.heic\t\t\t\t\t\t   どんでもない.gdoc\n",
            " IMG_6109.HEIC\t\t\t\t\t\t   な型.gdoc\n",
            " IMG_6110.HEIC\t\t\t\t\t\t   一年生　漢字\n",
            " IMG_6111.HEIC\t\t\t\t\t\t   其他名詞.gdoc\n",
            " IMG_6112.heic\t\t\t\t\t\t   動物.gdoc\n",
            " IMG_6113.heic\t\t\t\t\t\t   動物の日本語.gdoc\n",
            " IMG_6114.HEIC\t\t\t\t\t\t   專題\n",
            " IMG_6115.heic\t\t\t\t\t\t   期末專題\n",
            " IMG_6117.HEIC\t\t\t\t\t\t  '未命名文件 (1).gdoc'\n",
            " IMG_6118.HEIC\t\t\t\t\t\t  '未命名文件 (2).gdoc'\n",
            " IMG_6119.HEIC\t\t\t\t\t\t  '未命名文件 (3).gdoc'\n",
            " IMG_6120.HEIC\t\t\t\t\t\t   未命名文件.gdoc\n",
            " IMG_6121.heic\t\t\t\t\t\t   未命名簡報.gslides\n",
            " IMG_6122.heic\t\t\t\t\t\t   未命名資料夾\n",
            " IMG_6123.HEIC\t\t\t\t\t\t   業師教學\n",
            " IMG_6124.HEIC\t\t\t\t\t\t   樂譜\n",
            " IMG_6125.HEIC\t\t\t\t\t\t   深度學習課程\n",
            " IMG_6126.HEIC\t\t\t\t\t\t   父親證件.docx\n",
            " IMG_6127.heic\t\t\t\t\t\t   父親證件.gdoc\n",
            " IMG_6128.heic\t\t\t\t\t\t   猜歌\n",
            " IMG_6129.heic\t\t\t\t\t\t  '範例檔案 (1).zip'\n",
            " IMG_6130.heic\t\t\t\t\t\t   範例檔案.zip\n",
            " IMG_6131.HEIC\t\t\t\t\t\t   簡報比賽\n",
            " IMG_6132.heic\t\t\t\t\t\t   線代\n",
            " IMG_6133.HEIC\t\t\t\t\t\t   線性代數.pdf\n",
            " IMG_6134.HEIC\t\t\t\t\t\t   银河与星斗_.pdf\n",
            " IMG_6135.heic\n"
          ]
        }
      ]
    }
  ]
}