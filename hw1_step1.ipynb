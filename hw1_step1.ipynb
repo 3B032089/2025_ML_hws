{
 "cells": [
  {
   "cell_type": "code",
   "execution_count": 7,
   "id": "5ce4b9ed-1919-4b98-ab23-62e7cfcbeb0f",
   "metadata": {},
   "outputs": [],
   "source": [
    "import numpy as np"
   ]
  },
  {
   "cell_type": "code",
   "execution_count": 8,
   "id": "e4135e24-ce6d-474e-92e9-61633e54e654",
   "metadata": {},
   "outputs": [],
   "source": [
    "def relu(x):\n",
    "    return np.maximum(0, x)"
   ]
  },
  {
   "cell_type": "code",
   "execution_count": 9,
   "id": "8d5ef844-9e25-48c6-b5b5-b95d06af279a",
   "metadata": {},
   "outputs": [],
   "source": [
    "def sigmoid(x):\n",
    "    return 1/(1+np.exp(-x))"
   ]
  },
  {
   "cell_type": "code",
   "execution_count": 10,
   "id": "de6ffbf5-54cf-42ba-bb7c-bd247f41ffc2",
   "metadata": {},
   "outputs": [],
   "source": [
    "def softmax(x):\n",
    "    c=np.max(x)\n",
    "    x = x - c\n",
    "    return np.exp(x) / np.sum(np.exp(x))"
   ]
  },
  {
   "cell_type": "code",
   "execution_count": 17,
   "id": "e571c0e9-183e-4897-ba04-78d3484b7d7b",
   "metadata": {},
   "outputs": [
    {
     "data": {
      "text/plain": [
       "(6,)"
      ]
     },
     "execution_count": 17,
     "metadata": {},
     "output_type": "execute_result"
    }
   ],
   "source": [
    "#輸入層的參數\n",
    "x = np.array([4.0 , 3.0 , 5.0 , 2.0 , 6.0 , 7.0])\n",
    "x.shape"
   ]
  },
  {
   "cell_type": "code",
   "execution_count": 48,
   "id": "0264a9e1-1b34-4757-904d-131c3bc4e7d1",
   "metadata": {},
   "outputs": [],
   "source": [
    "#第一隱藏層：五個神經元"
   ]
  },
  {
   "cell_type": "code",
   "execution_count": 24,
   "id": "31431048-7dac-4579-a380-f1b28a8c381a",
   "metadata": {},
   "outputs": [
    {
     "data": {
      "text/plain": [
       "(6, 5)"
      ]
     },
     "execution_count": 24,
     "metadata": {},
     "output_type": "execute_result"
    }
   ],
   "source": [
    "#第一隱藏層的權重\n",
    "w1 = np.array([[2.5,3.0,1.5,6.5,4.0],\n",
    "               [2.0,4.0,2.5,6.0,4.5],\n",
    "               [1.5,3.5,3.0,6.5,4.0],\n",
    "               [2.0,3.5,1.0,6.0,3.0],\n",
    "               [2.5,4.5,1.5,4.0,2.5],\n",
    "               [1.5,2.5,5.5,2.0,2.0]])\n",
    "w1.shape"
   ]
  },
  {
   "cell_type": "code",
   "execution_count": 31,
   "id": "050ddb46-340b-4a25-9d0d-148c9729c526",
   "metadata": {},
   "outputs": [
    {
     "data": {
      "text/plain": [
       "(5,)"
      ]
     },
     "execution_count": 31,
     "metadata": {},
     "output_type": "execute_result"
    }
   ],
   "source": [
    "#偏置\n",
    "b1 = np.array([3.0,3.5,2.0,5.5,3.0])\n",
    "b1.shape"
   ]
  },
  {
   "cell_type": "code",
   "execution_count": 101,
   "id": "d37d2f90-9472-4312-841c-20ccc1f3b075",
   "metadata": {},
   "outputs": [
    {
     "name": "stdout",
     "output_type": "stream",
     "text": [
      "[ 56.   96.5  80.  132.   87.5]\n",
      "(5,)\n"
     ]
    }
   ],
   "source": [
    "#第一隱藏層輸出(未經過激發函數)\n",
    "z1 = np.dot(x,w1)+b1\n",
    "print(z1)\n",
    "print(z1.shape)"
   ]
  },
  {
   "cell_type": "code",
   "execution_count": 100,
   "id": "33d3b78d-383e-41d0-b920-b8f01abe7de2",
   "metadata": {},
   "outputs": [
    {
     "name": "stdout",
     "output_type": "stream",
     "text": [
      "[ 56.   96.5  80.  132.   87.5]\n",
      "(5,)\n"
     ]
    }
   ],
   "source": [
    "#使用激發函數\n",
    "h1 = relu(z1)\n",
    "print(h1)\n",
    "print(h1.shape)"
   ]
  },
  {
   "cell_type": "code",
   "execution_count": 54,
   "id": "d3dfd946-fff7-4388-95ca-e676b0ace7a8",
   "metadata": {},
   "outputs": [],
   "source": [
    "#第二隱藏層：四個神經元"
   ]
  },
  {
   "cell_type": "code",
   "execution_count": 59,
   "id": "444dc263-388e-4763-b304-1e34b8983f14",
   "metadata": {},
   "outputs": [
    {
     "data": {
      "text/plain": [
       "(5, 4)"
      ]
     },
     "execution_count": 59,
     "metadata": {},
     "output_type": "execute_result"
    }
   ],
   "source": [
    "#第二隱藏層的權重\n",
    "w2 = np.array([[2.5,1.5,1.5,-2.5],\n",
    "               [-1.5,1.0,3.5,3.0],\n",
    "               [-2.5,-2.0,4.0,-4.5],\n",
    "               [3.5,3.5,-2.0,1.0],\n",
    "               [-5.5,5.5,2.5,-2.5]])\n",
    "w2.shape"
   ]
  },
  {
   "cell_type": "code",
   "execution_count": 60,
   "id": "ecbc5979-0cac-4044-b126-5988e7486791",
   "metadata": {},
   "outputs": [
    {
     "data": {
      "text/plain": [
       "(4,)"
      ]
     },
     "execution_count": 60,
     "metadata": {},
     "output_type": "execute_result"
    }
   ],
   "source": [
    "#偏置\n",
    "b2 = np.array([3.5,2.0,5.5,2.0])\n",
    "b2.shape"
   ]
  },
  {
   "cell_type": "code",
   "execution_count": 98,
   "id": "d1840485-23fc-4fc5-8070-2b6b84e61076",
   "metadata": {},
   "outputs": [
    {
     "name": "stdout",
     "output_type": "stream",
     "text": [
      "[-220.5   965.75  702.   -295.25]\n",
      "(4,)\n"
     ]
    }
   ],
   "source": [
    "#第二隱藏層輸出(未經過激發函數)\n",
    "z2 = np.dot(h1,w2)+b2\n",
    "print(z2)\n",
    "print(z2.shape)"
   ]
  },
  {
   "cell_type": "code",
   "execution_count": 97,
   "id": "85fbe849-7500-4520-ac16-880ab1c08e43",
   "metadata": {},
   "outputs": [
    {
     "name": "stdout",
     "output_type": "stream",
     "text": [
      "[  0.   965.75 702.     0.  ]\n",
      "(4,)\n"
     ]
    }
   ],
   "source": [
    "#使用激發函數\n",
    "h2 = relu(z2)\n",
    "print(h2)\n",
    "print(h2.shape)"
   ]
  },
  {
   "cell_type": "code",
   "execution_count": 66,
   "id": "b6909442-098d-4d76-b445-2e4f1dd714c7",
   "metadata": {},
   "outputs": [],
   "source": [
    "#第三隱藏層：四個神經元"
   ]
  },
  {
   "cell_type": "code",
   "execution_count": 74,
   "id": "070e5ef6-baab-495c-80d1-f6e0b01a4ed1",
   "metadata": {},
   "outputs": [
    {
     "data": {
      "text/plain": [
       "(4, 4)"
      ]
     },
     "execution_count": 74,
     "metadata": {},
     "output_type": "execute_result"
    }
   ],
   "source": [
    "#第三隱藏層的權重\n",
    "w3 = np.array([[0.5,1.5,0.5,0.5],\n",
    "               [0.5,1.0,1.5,2.0],\n",
    "               [1.5,1.0,2.0,0.5],\n",
    "               [0.5,2.5,1.5,0.5]])\n",
    "w3.shape"
   ]
  },
  {
   "cell_type": "code",
   "execution_count": 75,
   "id": "84d5b3a7-7a37-4b05-8a71-0b7024619c60",
   "metadata": {},
   "outputs": [
    {
     "data": {
      "text/plain": [
       "(4,)"
      ]
     },
     "execution_count": 75,
     "metadata": {},
     "output_type": "execute_result"
    }
   ],
   "source": [
    "#偏置\n",
    "b3 = np.array([1.5,3.0,2.5,4.0])\n",
    "b3.shape"
   ]
  },
  {
   "cell_type": "code",
   "execution_count": 96,
   "id": "88887730-670e-48cb-a297-44d973f28cdd",
   "metadata": {},
   "outputs": [
    {
     "name": "stdout",
     "output_type": "stream",
     "text": [
      "[1537.375 1670.75  2855.125 2286.5  ]\n",
      "(4,)\n"
     ]
    }
   ],
   "source": [
    "#第三隱藏層輸出(未經過激發函數)\n",
    "z3 = np.dot(h2,w3)+b3\n",
    "print(z3)\n",
    "print(z3.shape)"
   ]
  },
  {
   "cell_type": "code",
   "execution_count": 95,
   "id": "9eafcafc-00a8-4fd8-9c18-54a08d1c6079",
   "metadata": {},
   "outputs": [
    {
     "name": "stdout",
     "output_type": "stream",
     "text": [
      "[1. 1. 1. 1.]\n",
      "(4,)\n"
     ]
    }
   ],
   "source": [
    "#使用激發函數\n",
    "h3 = sigmoid(z3)\n",
    "print(h3)\n",
    "print(h3.shape)"
   ]
  },
  {
   "cell_type": "code",
   "execution_count": 87,
   "id": "aa116bb4-d5ba-4009-a3d6-bc0a553cffc2",
   "metadata": {},
   "outputs": [],
   "source": [
    "#輸出層：三個神經元"
   ]
  },
  {
   "cell_type": "code",
   "execution_count": 88,
   "id": "83eeb11d-4266-4d6c-806e-2a6ccecf212d",
   "metadata": {},
   "outputs": [
    {
     "data": {
      "text/plain": [
       "(4, 3)"
      ]
     },
     "execution_count": 88,
     "metadata": {},
     "output_type": "execute_result"
    }
   ],
   "source": [
    "#輸出層的權重\n",
    "w_out = np.array([[0.5,1.0,1.5],\n",
    "                  [1.5,1.0,0.5],\n",
    "                  [2.0,1.5,0.5],\n",
    "                  [1.0,0.5,1.5]])\n",
    "w_out.shape"
   ]
  },
  {
   "cell_type": "code",
   "execution_count": 89,
   "id": "b04be31f-1682-400c-9e58-a4ddf01b1260",
   "metadata": {},
   "outputs": [
    {
     "data": {
      "text/plain": [
       "(3,)"
      ]
     },
     "execution_count": 89,
     "metadata": {},
     "output_type": "execute_result"
    }
   ],
   "source": [
    "#偏置\n",
    "b_out = np.array([1.0,2.0,1.5])\n",
    "b_out.shape"
   ]
  },
  {
   "cell_type": "code",
   "execution_count": 94,
   "id": "f915d7b7-5a94-44b8-b29b-f9b3593a8b18",
   "metadata": {},
   "outputs": [
    {
     "name": "stdout",
     "output_type": "stream",
     "text": [
      "[6.  6.  5.5]\n",
      "(3,)\n"
     ]
    }
   ],
   "source": [
    "#輸出層輸出(未經過激發函數)\n",
    "z_out = np.dot(h3,w_out)+b_out\n",
    "print(z_out)\n",
    "print(z_out.shape)"
   ]
  },
  {
   "cell_type": "code",
   "execution_count": 93,
   "id": "fb576ee1-b62a-4ff3-9991-3caf13496156",
   "metadata": {},
   "outputs": [
    {
     "name": "stdout",
     "output_type": "stream",
     "text": [
      "[0.38365173 0.38365173 0.23269654]\n",
      "(3,)\n"
     ]
    }
   ],
   "source": [
    "#使用激發函數\n",
    "y_hat = softmax(z_out)\n",
    "print(y_hat)\n",
    "print(y_hat.shape)"
   ]
  },
  {
   "cell_type": "code",
   "execution_count": null,
   "id": "3758e5ca-926a-4aca-8a88-7dbdc25872f5",
   "metadata": {},
   "outputs": [],
   "source": []
  }
 ],
 "metadata": {
  "kernelspec": {
   "display_name": "Python 3 (ipykernel)",
   "language": "python",
   "name": "python3"
  },
  "language_info": {
   "codemirror_mode": {
    "name": "ipython",
    "version": 3
   },
   "file_extension": ".py",
   "mimetype": "text/x-python",
   "name": "python",
   "nbconvert_exporter": "python",
   "pygments_lexer": "ipython3",
   "version": "3.12.9"
  }
 },
 "nbformat": 4,
 "nbformat_minor": 5
}
