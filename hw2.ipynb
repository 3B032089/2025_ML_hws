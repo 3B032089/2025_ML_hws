{
 "cells": [
  {
   "cell_type": "code",
   "execution_count": 1,
   "id": "bb2dede7-e6b2-41e0-9b04-8ecfe695b84e",
   "metadata": {},
   "outputs": [],
   "source": [
    "import numpy as np\n",
    "import gradio as gr\n",
    "\n",
    "def relu(x):\n",
    "    return np.maximum(0, x)\n",
    "def sigmoid(x):\n",
    "    return 1/(1+np.exp(-x))\n",
    "def softmax(x):\n",
    "    c=np.max(x)\n",
    "    x = x - c\n",
    "    return np.exp(x) / np.sum(np.exp(x))"
   ]
  },
  {
   "cell_type": "code",
   "execution_count": 2,
   "id": "a27a8ac8-14b7-46d1-a4f6-f691b3ce4dd1",
   "metadata": {},
   "outputs": [],
   "source": [
    "def cross_entropy_error(y, t):\n",
    "    if y.ndim == 1:\n",
    "        t = t.reshape(1, t.size)\n",
    "        y = y.reshape(1, y.size)\n",
    "\n",
    "    batch_size = y.shape[0]\n",
    "    return -np.sum(t * np.log(y + 1e-7)) / batch_size"
   ]
  },
  {
   "cell_type": "code",
   "execution_count": 3,
   "id": "efff5c0a-76d1-4c7e-b310-e2bf41720d4d",
   "metadata": {},
   "outputs": [],
   "source": [
    "X=np.array([[1.0, 0.5], [1.0, 1.5], [0.7, 0.9],[1.3, 1.1],[0.7, 1.2]])\n",
    "t=np.array([[1, 0], [0, 1], [1, 0],[1, 0],[0, 1]]) #標籤"
   ]
  },
  {
   "cell_type": "code",
   "execution_count": 4,
   "id": "d5f35196-0a7d-4903-8714-2b2f191c265f",
   "metadata": {},
   "outputs": [
    {
     "data": {
      "text/plain": [
       "(5, 2)"
      ]
     },
     "execution_count": 4,
     "metadata": {},
     "output_type": "execute_result"
    }
   ],
   "source": [
    "X.shape"
   ]
  },
  {
   "cell_type": "code",
   "execution_count": 5,
   "id": "d597272a-6f9e-4c2d-8932-a2febbe3af97",
   "metadata": {},
   "outputs": [
    {
     "data": {
      "text/plain": [
       "array([[1. , 0.5],\n",
       "       [1. , 1.5],\n",
       "       [0.7, 0.9],\n",
       "       [1.3, 1.1],\n",
       "       [0.7, 1.2]])"
      ]
     },
     "execution_count": 5,
     "metadata": {},
     "output_type": "execute_result"
    }
   ],
   "source": [
    "X"
   ]
  },
  {
   "cell_type": "code",
   "execution_count": null,
   "id": "b74c4bff-3714-4014-96e2-1d3a7392c429",
   "metadata": {},
   "outputs": [],
   "source": []
  }
 ],
 "metadata": {
  "kernelspec": {
   "display_name": "Python 3 (ipykernel)",
   "language": "python",
   "name": "python3"
  },
  "language_info": {
   "codemirror_mode": {
    "name": "ipython",
    "version": 3
   },
   "file_extension": ".py",
   "mimetype": "text/x-python",
   "name": "python",
   "nbconvert_exporter": "python",
   "pygments_lexer": "ipython3",
   "version": "3.12.9"
  }
 },
 "nbformat": 4,
 "nbformat_minor": 5
}
