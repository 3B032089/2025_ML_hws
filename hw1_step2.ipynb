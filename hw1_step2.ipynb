{
 "cells": [
  {
   "cell_type": "code",
   "execution_count": 18,
   "id": "4a993eaa-b17c-4c12-bbee-9a4b2eec0adf",
   "metadata": {},
   "outputs": [],
   "source": [
    "import numpy as np\n",
    "import gradio as gr\n",
    "\n",
    "def relu(x):\n",
    "    return np.maximum(0, x)\n",
    "def sigmoid(x):\n",
    "    return 1/(1+np.exp(-x))\n",
    "def softmax(x):\n",
    "    c=np.max(x)\n",
    "    x = x - c\n",
    "    return np.exp(x) / np.sum(np.exp(x))\n",
    "def dnn(x):\n",
    "    parts = x.split()\n",
    "    x_float = np.array([float(p) for p in parts])  \n",
    "    #第一隱藏層\n",
    "    w1 = np.array([[2.5,3.0,1.5,6.5,4.0],\n",
    "                   [2.0,4.0,2.5,6.0,4.5],\n",
    "                   [1.5,3.5,3.0,6.5,4.0],\n",
    "                   [2.0,3.5,1.0,6.0,3.0],\n",
    "                   [2.5,4.5,1.5,4.0,2.5],\n",
    "                   [1.5,2.5,5.5,2.0,2.0]])\n",
    "    b1 = np.array([3.0,3.5,2.0,5.5,3.0])\n",
    "    z1 = np.dot(x_float,w1)+b1\n",
    "    h1 = relu(z1)\n",
    "\n",
    "    #第二隱藏層\n",
    "    w2 = np.array([[2.5,1.5,1.5,-2.5],\n",
    "                   [-1.5,1.0,3.5,3.0],\n",
    "                   [-2.5,-2.0,4.0,-4.5],\n",
    "                   [3.5,3.5,-2.0,1.0],\n",
    "                   [-5.5,5.5,2.5,-2.5]])\n",
    "    b2 = np.array([3.5,2.0,5.5,2.0])\n",
    "    z2 = np.dot(h1,w2)+b2\n",
    "    h2 = relu(z2)\n",
    "\n",
    "    #第三隱藏層\n",
    "    w3 = np.array([[0.5,1.5,0.5,0.5],\n",
    "                   [0.5,1.0,1.5,2.0],\n",
    "                   [1.5,1.0,2.0,0.5],\n",
    "                   [0.5,2.5,1.5,0.5]])\n",
    "    b3 = np.array([1.5,3.0,2.5,4.0])\n",
    "    z3 = np.dot(h2,w3)+b3\n",
    "    h3 = sigmoid(z3)\n",
    "\n",
    "    #輸出層\n",
    "    w_out = np.array([[0.5,1.0,1.5],\n",
    "                      [1.5,1.0,0.5],\n",
    "                      [2.0,1.5,0.5],\n",
    "                      [1.0,0.5,1.5]])\n",
    "    b_out = np.array([1.0,2.0,1.5])\n",
    "    z_out = np.dot(h3,w_out)+b_out\n",
    "    y_hat = softmax(z_out)\n",
    "\n",
    "    return y_hat"
   ]
  },
  {
   "cell_type": "code",
   "execution_count": 19,
   "id": "7e7bfe41-0624-4fa0-b48a-ae60812fdb96",
   "metadata": {},
   "outputs": [
    {
     "name": "stdout",
     "output_type": "stream",
     "text": [
      "* Running on local URL:  http://127.0.0.1:7863\n",
      "\n",
      "To create a public link, set `share=True` in `launch()`.\n"
     ]
    },
    {
     "data": {
      "text/html": [
       "<div><iframe src=\"http://127.0.0.1:7863/\" width=\"100%\" height=\"500\" allow=\"autoplay; camera; microphone; clipboard-read; clipboard-write;\" frameborder=\"0\" allowfullscreen></iframe></div>"
      ],
      "text/plain": [
       "<IPython.core.display.HTML object>"
      ]
     },
     "metadata": {},
     "output_type": "display_data"
    },
    {
     "data": {
      "text/plain": []
     },
     "execution_count": 19,
     "metadata": {},
     "output_type": "execute_result"
    }
   ],
   "source": [
    "textbox_input = gr.Textbox(\n",
    "    lines=1,\n",
    "    label = \"請輸入六個數字\"\n",
    ")\n",
    "\n",
    "iface = gr.Interface(dnn,\n",
    "                     inputs = textbox_input,\n",
    "                     outputs = \"text\",\n",
    "                     title = \"第一支神經網路\",\n",
    "                     description = \"可輸入6個數字給dnn\")\n",
    "iface.launch()"
   ]
  },
  {
   "cell_type": "code",
   "execution_count": null,
   "id": "12ebf228-28bf-4f05-9361-1fd37e525d94",
   "metadata": {},
   "outputs": [],
   "source": []
  }
 ],
 "metadata": {
  "kernelspec": {
   "display_name": "Python 3 (ipykernel)",
   "language": "python",
   "name": "python3"
  },
  "language_info": {
   "codemirror_mode": {
    "name": "ipython",
    "version": 3
   },
   "file_extension": ".py",
   "mimetype": "text/x-python",
   "name": "python",
   "nbconvert_exporter": "python",
   "pygments_lexer": "ipython3",
   "version": "3.12.9"
  }
 },
 "nbformat": 4,
 "nbformat_minor": 5
}
